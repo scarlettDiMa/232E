{
 "cells": [
  {
   "cell_type": "code",
   "execution_count": 4,
   "metadata": {},
   "outputs": [],
   "source": [
    "from igraph import *\n",
    "import numpy as np\n",
    "import csv\n",
    "import pandas"
   ]
  },
  {
   "cell_type": "code",
   "execution_count": 94,
   "metadata": {},
   "outputs": [],
   "source": [
    "from collections import defaultdict\n",
    "\n",
    "def find_euler_tour(graph):\n",
    "    tour = []\n",
    "    E = graph\n",
    "\n",
    "    numEdges = defaultdict(int)\n",
    "\n",
    "    def find_tour(u):\n",
    "        for e in range(len(E)):\n",
    "            if E[e] == 0:\n",
    "                continue\n",
    "            if u == E[e][0]:\n",
    "                u,v = E[e]\n",
    "                E[e] = 0\n",
    "                find_tour(v)\n",
    "            elif u == E[e][1]:\n",
    "                v,u = E[e]\n",
    "                E[e] = 0\n",
    "                find_tour(v)\n",
    "        tour.insert(0,u)\n",
    "\n",
    "    for i,j in graph:\n",
    "        numEdges[i] += 1\n",
    "        numEdges[j] += 1\n",
    "\n",
    "    start = graph[0][0]\n",
    "    for i,j in numEdges.items():\n",
    "        if j % 2 > 0:\n",
    "            start = i\n",
    "            break\n",
    "\n",
    "    current = start\n",
    "    find_tour(current)\n",
    "\n",
    "    if tour[0] != tour[-1]:\n",
    "        return None\n",
    "    return tour"
   ]
  },
  {
   "cell_type": "code",
   "execution_count": 58,
   "metadata": {},
   "outputs": [],
   "source": [
    "df = pandas.read_csv(\"edge_list.csv\", header = 0, names=[\"name1\", \"name2\", \"weight\"])"
   ]
  },
  {
   "cell_type": "code",
   "execution_count": 86,
   "metadata": {},
   "outputs": [],
   "source": [
    "sys.setrecursionlimit(5000)"
   ]
  },
  {
   "cell_type": "code",
   "execution_count": 89,
   "metadata": {},
   "outputs": [],
   "source": [
    "count = 0\n",
    "graph = list()\n",
    "for row in df.iterrows():\n",
    "    a = int(row[1].name1)\n",
    "    b = int(row[1].name2)\n",
    "    tmp = (a,b)\n",
    "    graph.append(tmp)"
   ]
  },
  {
   "cell_type": "code",
   "execution_count": 90,
   "metadata": {},
   "outputs": [],
   "source": [
    "tour = find_euler_tour(graph)"
   ]
  },
  {
   "cell_type": "code",
   "execution_count": 96,
   "metadata": {},
   "outputs": [],
   "source": [
    "with open(\"tsp_tour.txt\", \"w\") as f:\n",
    "    for i in tour:\n",
    "        f.write(str(i) + '\\n')"
   ]
  },
  {
   "cell_type": "code",
   "execution_count": null,
   "metadata": {},
   "outputs": [],
   "source": []
  },
  {
   "cell_type": "code",
   "execution_count": null,
   "metadata": {},
   "outputs": [],
   "source": []
  },
  {
   "cell_type": "code",
   "execution_count": null,
   "metadata": {},
   "outputs": [],
   "source": []
  }
 ],
 "metadata": {
  "kernelspec": {
   "display_name": "Python 3",
   "language": "python",
   "name": "python3"
  },
  "language_info": {
   "codemirror_mode": {
    "name": "ipython",
    "version": 3
   },
   "file_extension": ".py",
   "mimetype": "text/x-python",
   "name": "python",
   "nbconvert_exporter": "python",
   "pygments_lexer": "ipython3",
   "version": "3.6.4"
  }
 },
 "nbformat": 4,
 "nbformat_minor": 2
}
