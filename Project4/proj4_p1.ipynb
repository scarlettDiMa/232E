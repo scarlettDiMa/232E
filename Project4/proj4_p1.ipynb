{
 "cells": [
  {
   "cell_type": "code",
   "execution_count": null,
   "metadata": {},
   "outputs": [],
   "source": [
    "library(\"igraph\")\n",
    "# library(\"hash\")\n",
    "# library(e1071)"
   ]
  },
  {
   "cell_type": "code",
   "execution_count": null,
   "metadata": {},
   "outputs": [],
   "source": [
    "g = read.graph(\"project4_data_selected/edge_list.txt\", format = \"ncol\", directed=TRUE)"
   ]
  },
  {
   "cell_type": "code",
   "execution_count": null,
   "metadata": {},
   "outputs": [],
   "source": [
    "plot(degree.distribution(g,mode=\"in\"))"
   ]
  },
  {
   "cell_type": "code",
   "execution_count": null,
   "metadata": {},
   "outputs": [],
   "source": [
    "install.packages(\"hash\")\n",
    "library(\"hash\")"
   ]
  },
  {
   "cell_type": "code",
   "execution_count": null,
   "metadata": {},
   "outputs": [],
   "source": [
    "actorid_filename = file(\"project4_data_selected/actor_name_id_map.txt\",open=\"r\")\n",
    "actorID_map = readLines(actorid_filename,encoding=\"latin-1\")"
   ]
  },
  {
   "cell_type": "code",
   "execution_count": null,
   "metadata": {},
   "outputs": [],
   "source": [
    "map = c()\n",
    "actor_names = c()\n",
    "actor_ids = c()\n",
    "\n",
    "for (line in actorID_map){\n",
    "    act=strsplit(line,\"\\t\\t\")\n",
    "    actor_names = c(actor_names, act[[1]][1])\n",
    "    actor_ids = c(actor_ids, act[[1]][2])\n",
    "}\n",
    "map = actor_ids\n",
    "names(map) = actor_names"
   ]
  },
  {
   "cell_type": "code",
   "execution_count": null,
   "metadata": {},
   "outputs": [],
   "source": [
    "k = 0\n",
    "for (i in actorID_map){\n",
    "    if (k < 5){\n",
    "        print(i)\n",
    "        k = k+1\n",
    "    }\n",
    "}"
   ]
  },
  {
   "cell_type": "code",
   "execution_count": null,
   "metadata": {},
   "outputs": [],
   "source": [
    "namelist = c(\"Cruise, Tom\",\"Watson, Emma (II)\",\"Clooney, George\",\"Hanks, Tom\",\"Johnson, Dwayne (I)\",\"Depp, Johnny\",\"Smith, Will (I)\",\"Streep, Meryl\",\"DiCaprio, Leonardo\", \"Pitt, Brad\")\n",
    "actorId = c()\n",
    "for (i in 1:length(namelist)){\n",
    "    id = map[[namelist[i]]]\n",
    "    actorId = c(actorId, id )\n",
    "}\n",
    "print(actorId)"
   ]
  },
  {
   "cell_type": "code",
   "execution_count": null,
   "metadata": {},
   "outputs": [],
   "source": [
    "\n",
    "adj = adjacent_vertices(g, strtoi(16365), mode = \"all\")"
   ]
  },
  {
   "cell_type": "code",
   "execution_count": null,
   "metadata": {},
   "outputs": [],
   "source": [
    "print(adj)"
   ]
  },
  {
   "cell_type": "code",
   "execution_count": null,
   "metadata": {},
   "outputs": [],
   "source": [
    "get.edges(g,16365)"
   ]
  },
  {
   "cell_type": "code",
   "execution_count": null,
   "metadata": {},
   "outputs": [],
   "source": [
    "edgelist = get.edgelist(g)"
   ]
  },
  {
   "cell_type": "code",
   "execution_count": null,
   "metadata": {},
   "outputs": [],
   "source": [
    "edges = get.edges(g, es = 16365)"
   ]
  },
  {
   "cell_type": "code",
   "execution_count": null,
   "metadata": {},
   "outputs": [],
   "source": [
    "print(edgelist[[2]])"
   ]
  },
  {
   "cell_type": "code",
   "execution_count": null,
   "metadata": {},
   "outputs": [],
   "source": [
    "get.edge.ids(g, c(16365, 29236), directed = TRUE, error = FALSE, multi = FALSE)"
   ]
  },
  {
   "cell_type": "code",
   "execution_count": null,
   "metadata": {},
   "outputs": [],
   "source": []
  }
 ],
 "metadata": {
  "kernelspec": {
   "display_name": "R",
   "language": "R",
   "name": "ir"
  },
  "language_info": {
   "codemirror_mode": "r",
   "file_extension": ".r",
   "mimetype": "text/x-r-source",
   "name": "R",
   "pygments_lexer": "r",
   "version": "3.4.4"
  }
 },
 "nbformat": 4,
 "nbformat_minor": 2
}
