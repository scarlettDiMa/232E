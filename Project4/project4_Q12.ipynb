{
 "cells": [
  {
   "cell_type": "code",
   "execution_count": 2,
   "metadata": {},
   "outputs": [],
   "source": [
    "library(igraph)\n",
    "#library(data.table)\n",
    "#library(network)\n",
    "#library(intergraph)"
   ]
  },
  {
   "cell_type": "code",
   "execution_count": 3,
   "metadata": {},
   "outputs": [
    {
     "data": {
      "text/plain": [
       "               _                           \n",
       "platform       x86_64-apple-darwin15.6.0   \n",
       "arch           x86_64                      \n",
       "os             darwin15.6.0                \n",
       "system         x86_64, darwin15.6.0        \n",
       "status                                     \n",
       "major          3                           \n",
       "minor          4.4                         \n",
       "year           2018                        \n",
       "month          03                          \n",
       "day            15                          \n",
       "svn rev        74408                       \n",
       "language       R                           \n",
       "version.string R version 3.4.4 (2018-03-15)\n",
       "nickname       Someone to Lean On          "
      ]
     },
     "metadata": {},
     "output_type": "display_data"
    }
   ],
   "source": [
    "version"
   ]
  },
  {
   "cell_type": "markdown",
   "metadata": {},
   "source": [
    "### Q12\n",
    "features: top 5 pageranks of the actors in each movie\n",
    "\n",
    "model: linear regression"
   ]
  },
  {
   "cell_type": "code",
   "execution_count": 4,
   "metadata": {
    "collapsed": true
   },
   "outputs": [],
   "source": [
    "load(\"Q12data.RData\")\n",
    "# g <- the graph of movies in part 2\n",
    "# communities <- the communities result in part 2\n",
    "# actorId2pagerank <- actor's pagerank, e.g. pagerank of actor 0 = actorId2pagerank[1]\n",
    "# movieId2actorIds <- movies' actor list, e.g. actor list of movie 0 = movieId2actorIds[[1]]"
   ]
  },
  {
   "cell_type": "code",
   "execution_count": 5,
   "metadata": {},
   "outputs": [
    {
     "data": {
      "text/plain": [
       "\n",
       "Call:\n",
       "lm(formula = rating ~ ., data = df)\n",
       "\n",
       "Residuals:\n",
       "    Min      1Q  Median      3Q     Max \n",
       "-5.9464 -0.7631  0.1215  0.8752  3.8247 \n",
       "\n",
       "Coefficients:\n",
       "              Estimate Std. Error t value Pr(>|t|)    \n",
       "(Intercept)  5.910e+00  8.017e-03 737.146  < 2e-16 ***\n",
       "pagerank1   -8.560e+02  2.570e+02  -3.331 0.000866 ***\n",
       "pagerank2   -4.416e+02  7.751e+02  -0.570 0.568892    \n",
       "pagerank3    1.479e+03  1.493e+03   0.990 0.322033    \n",
       "pagerank4    3.858e+03  2.340e+03   1.649 0.099170 .  \n",
       "pagerank5    1.155e+04  2.152e+03   5.366 8.07e-08 ***\n",
       "---\n",
       "Signif. codes:  0 ‘***’ 0.001 ‘**’ 0.01 ‘*’ 0.05 ‘.’ 0.1 ‘ ’ 1\n",
       "\n",
       "Residual standard error: 1.244 on 133257 degrees of freedom\n",
       "  (56 observations deleted due to missingness)\n",
       "Multiple R-squared:  0.003585,\tAdjusted R-squared:  0.003548 \n",
       "F-statistic:  95.9 on 5 and 133257 DF,  p-value: < 2.2e-16\n"
      ]
     },
     "metadata": {},
     "output_type": "display_data"
    }
   ],
   "source": [
    "get_feature_pageranks <- function(movieId) {\n",
    "    actors <- movieId2actorIds[[movieId+1]]\n",
    "    pagerank <- c()\n",
    "    for (actorId in actors) {\n",
    "        pagerank <- c(pagerank, actorId2pagerank[actorId+1])\n",
    "    }\n",
    "    return(sort(pagerank, decreasing=TRUE)[1:5])\n",
    "}\n",
    "\n",
    "df <- data.frame(matrix(ncol = 6, nrow = 0))\n",
    "colnames(df) <- c(\"rating\",\"pagerank1\",\"pagerank2\",\"pagerank3\",\"pagerank4\",\"pagerank5\")\n",
    "\n",
    "for (i in 1:vcount(g)){\n",
    "    if (is.na(V(g)$rating[i])) { next }\n",
    "    \n",
    "    movie_id <- as.numeric(V(g)$name[i])\n",
    "    movie_rating <- V(g)$rating[i]\n",
    "    df[nrow(df)+1, ] <- c(movie_rating, get_feature_pageranks(movie_id))\n",
    "}\n",
    "\n",
    "mod <- lm(rating ~ ., data = df)\n",
    "summary(mod)"
   ]
  },
  {
   "cell_type": "code",
   "execution_count": 6,
   "metadata": {},
   "outputs": [
    {
     "name": "stdout",
     "output_type": "stream",
     "text": [
      "RMSE: 1.243792"
     ]
    }
   ],
   "source": [
    "RSS <- c(crossprod(mod$residuals))\n",
    "MSE <- RSS / length(mod$residuals)\n",
    "RMSE <- sqrt(MSE)\n",
    "cat(\"RMSE:\",RMSE)"
   ]
  },
  {
   "cell_type": "code",
   "execution_count": 7,
   "metadata": {
    "collapsed": true
   },
   "outputs": [],
   "source": [
    "movie_id_targets <- c(10321, 39182, 78995)\n",
    "movie_name_targets <- c(\"Batman v Superman: Dawn of Justice (2016)\", \"Mission: Impossible - Rogue Nation (2015)\", \"Minions (2015)\")"
   ]
  },
  {
   "cell_type": "code",
   "execution_count": 8,
   "metadata": {},
   "outputs": [
    {
     "name": "stdout",
     "output_type": "stream",
     "text": [
      "Batman v Superman: Dawn of Justice (2016) \n",
      "Ground truth rating: NA \n",
      "Predicted rating: 6.303812 \n",
      " \n",
      "Mission: Impossible - Rogue Nation (2015) \n",
      "Ground truth rating: NA \n",
      "Predicted rating: 6.124734 \n",
      " \n",
      "Minions (2015) \n",
      "Ground truth rating: NA \n",
      "Predicted rating: 6.081247 \n",
      " \n"
     ]
    }
   ],
   "source": [
    "for (i in 1:3) {\n",
    "    movie_id <- movie_id_targets[i]\n",
    "    cat(movie_name_targets[i], '\\n')\n",
    "    \n",
    "    node_id <- which(V(g)$name == movie_id)\n",
    "    rating_truth <- V(g)$rating[node_id]\n",
    "    cat(\"Ground truth rating:\", rating_truth, '\\n')\n",
    "    \n",
    "    features <- data.frame(matrix(ncol = 5, nrow = 1))\n",
    "    colnames(features) <- c(\"pagerank1\",\"pagerank2\",\"pagerank3\",\"pagerank4\",\"pagerank5\")\n",
    "    features[1, ] <- get_feature_pageranks(movie_id)\n",
    "    rating_prediction <- predict(mod, features)\n",
    "    cat(\"Predicted rating:\", rating_prediction, '\\n', '\\n')\n",
    "}"
   ]
  }
 ],
 "metadata": {
  "kernelspec": {
   "display_name": "R",
   "language": "R",
   "name": "ir"
  },
  "language_info": {
   "codemirror_mode": "r",
   "file_extension": ".r",
   "mimetype": "text/x-r-source",
   "name": "R",
   "pygments_lexer": "r",
   "version": "3.4.4"
  }
 },
 "nbformat": 4,
 "nbformat_minor": 2
}
