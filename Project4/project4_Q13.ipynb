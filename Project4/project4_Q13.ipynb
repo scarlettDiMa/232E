{
 "cells": [
  {
   "cell_type": "code",
   "execution_count": 2,
   "metadata": {},
   "outputs": [],
   "source": [
    "library(igraph)"
   ]
  },
  {
   "cell_type": "code",
   "execution_count": 3,
   "metadata": {},
   "outputs": [
    {
     "data": {
      "text/plain": [
       "               _                           \n",
       "platform       x86_64-apple-darwin15.6.0   \n",
       "arch           x86_64                      \n",
       "os             darwin15.6.0                \n",
       "system         x86_64, darwin15.6.0        \n",
       "status                                     \n",
       "major          3                           \n",
       "minor          4.4                         \n",
       "year           2018                        \n",
       "month          03                          \n",
       "day            15                          \n",
       "svn rev        74408                       \n",
       "language       R                           \n",
       "version.string R version 3.4.4 (2018-03-15)\n",
       "nickname       Someone to Lean On          "
      ]
     },
     "metadata": {},
     "output_type": "display_data"
    }
   ],
   "source": [
    "version"
   ]
  },
  {
   "cell_type": "code",
   "execution_count": 4,
   "metadata": {
    "collapsed": true
   },
   "outputs": [],
   "source": [
    "load(\"Q12data.RData\")\n",
    "# g <- the graph of movies in part 2\n",
    "# communities <- the communities result in part 2\n",
    "# actorId2pagerank <- actor's pagerank, e.g. pagerank of actor 0 = actorId2pagerank[1]\n",
    "# movieId2actorIds <- movies' actor list, e.g. actor list of movie 0 = movieId2actorIds[[1]]"
   ]
  },
  {
   "cell_type": "code",
   "execution_count": 5,
   "metadata": {
    "collapsed": true
   },
   "outputs": [],
   "source": [
    "movie_id_targets <- c(10321, 39182, 78995)\n",
    "movie_name_targets <- c(\"Batman v Superman: Dawn of Justice (2016)\", \"Mission: Impossible - Rogue Nation (2015)\", \"Minions (2015)\")"
   ]
  },
  {
   "cell_type": "markdown",
   "metadata": {},
   "source": [
    "### Q13\n",
    "actor weight: the average of the top 5 ratings of the actor's movies\n",
    "\n",
    "features: top 5 actor weights for each movie\n",
    "\n",
    "model: average the features"
   ]
  },
  {
   "cell_type": "code",
   "execution_count": null,
   "metadata": {
    "collapsed": true
   },
   "outputs": [],
   "source": [
    "actor_ratings <- list()\n",
    "for (i in 1:vcount(g)){\n",
    "    if (is.na(V(g)$rating[i])) { next }\n",
    "    \n",
    "    movie_id <- as.numeric(V(g)$name[i])\n",
    "    movie_rating <- V(g)$rating[i]    \n",
    "    actors <- movieId2actorIds[[movie_id+1]]\n",
    "    for (actorId in actors) {\n",
    "        if (length(actor_ratings) <= actorId) {\n",
    "            actor_ratings[[actorId+1]] <- c(movie_rating)\n",
    "        }\n",
    "        else {\n",
    "            actor_ratings[[actorId+1]] <- c(actor_ratings[[actorId+1]], movie_rating)\n",
    "        }\n",
    "    }\n",
    "}\n",
    "\n",
    "actor_weight <- c()\n",
    "for (ratings in actor_ratings) {\n",
    "    if (is.null(ratings)) {\n",
    "        weight <- 0\n",
    "    }\n",
    "    else {\n",
    "        weight <- mean(sort(ratings, decreasing=TRUE)[1:5], na.rm=TRUE)\n",
    "    }\n",
    "    actor_weight <- c(actor_weight, weight)\n",
    "}"
   ]
  },
  {
   "cell_type": "code",
   "execution_count": 31,
   "metadata": {
    "collapsed": true
   },
   "outputs": [],
   "source": [
    "saveRDS(actor_weight, \"actor_weight.rds\")"
   ]
  },
  {
   "cell_type": "code",
   "execution_count": 27,
   "metadata": {
    "collapsed": true
   },
   "outputs": [],
   "source": [
    "predict_rating <- function(movieId) {\n",
    "    actors <- movieId2actorIds[[movieId+1]]\n",
    "    weights <- c()\n",
    "    for (actorId in actors) {\n",
    "        weights <- c(weights, actor_weight[actorId+1])\n",
    "    }\n",
    "    return(mean(sort(weights, decreasing=TRUE)[1:5], na.rm=TRUE))\n",
    "}"
   ]
  },
  {
   "cell_type": "code",
   "execution_count": 28,
   "metadata": {},
   "outputs": [],
   "source": [
    "truth <- c()\n",
    "prediction <- c()\n",
    "for (i in 1:vcount(g)){\n",
    "    if (is.na(V(g)$rating[i])) { next }\n",
    "    \n",
    "    movie_id <- as.numeric(V(g)$name[i])\n",
    "    movie_rating <- V(g)$rating[i]\n",
    "    truth <- c(truth, movie_rating)\n",
    "    prediction <- c(prediction, predict_rating(movie_id))\n",
    "}"
   ]
  },
  {
   "cell_type": "code",
   "execution_count": 29,
   "metadata": {},
   "outputs": [
    {
     "name": "stdout",
     "output_type": "stream",
     "text": [
      "RMSE: 2.10236"
     ]
    }
   ],
   "source": [
    "cat(\"RMSE:\", sqrt(mean((truth - prediction)^2)))"
   ]
  },
  {
   "cell_type": "code",
   "execution_count": 30,
   "metadata": {},
   "outputs": [
    {
     "name": "stdout",
     "output_type": "stream",
     "text": [
      "Batman v Superman: Dawn of Justice (2016) \n",
      "Ground truth rating: NA \n",
      "Predicted rating: 8.511 \n",
      " \n",
      "Mission: Impossible - Rogue Nation (2015) \n",
      "Ground truth rating: NA \n",
      "Predicted rating: 8.26 \n",
      " \n",
      "Minions (2015) \n",
      "Ground truth rating: NA \n",
      "Predicted rating: 9.212 \n",
      " \n"
     ]
    }
   ],
   "source": [
    "for (i in 1:3) {\n",
    "    movie_id <- movie_id_targets[i]\n",
    "    cat(movie_name_targets[i], '\\n')\n",
    "    node_id <- which(V(g)$name == movie_id)\n",
    "    rating_truth <- V(g)$rating[node_id]\n",
    "    cat(\"Ground truth rating:\", rating_truth, '\\n')\n",
    "    cat(\"Predicted rating:\", predict_rating(movie_id), '\\n', '\\n')\n",
    "}"
   ]
  }
 ],
 "metadata": {
  "kernelspec": {
   "display_name": "R",
   "language": "R",
   "name": "ir"
  },
  "language_info": {
   "codemirror_mode": "r",
   "file_extension": ".r",
   "mimetype": "text/x-r-source",
   "name": "R",
   "pygments_lexer": "r",
   "version": "3.4.4"
  }
 },
 "nbformat": 4,
 "nbformat_minor": 2
}
