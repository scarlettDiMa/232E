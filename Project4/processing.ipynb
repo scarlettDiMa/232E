{
 "cells": [
  {
   "cell_type": "code",
   "execution_count": 1,
   "metadata": {},
   "outputs": [],
   "source": [
    "outfile = open(\"project4_data_selected/preprocessed.txt\",'w',encoding='latin-1')\n",
    "actor_id_out = open (\"project4_data_selected/actor_name_id_map.txt\",'w',encoding='latin-1')\n",
    "infile1 = open(\"project4_data_selected/actor_movies.txt\",'r',encoding='latin-1')\n",
    "infile2 = open(\"project4_data_selected/actress_movies.txt\",'r',encoding='latin-1')"
   ]
  },
  {
   "cell_type": "code",
   "execution_count": 2,
   "metadata": {},
   "outputs": [
    {
     "name": "stdout",
     "output_type": "stream",
     "text": [
      "Actor amount:  74598\n",
      "Actress amount:  38534\n",
      "Movie amount:  468150\n"
     ]
    }
   ],
   "source": [
    "count = 0\n",
    "movie_count = 0\n",
    "threshold = 10\n",
    "actor_count = 0\n",
    "movie_dict = {}\n",
    "for line in infile1.readlines():\n",
    "    movies = line[:-1]\n",
    "    tmp=movies.split(\"\\t\\t\")\n",
    "    if len(tmp)<= threshold:\n",
    "        continue    \n",
    "    actor_name = tmp[0]\n",
    "    actor_name.strip(\" \")\n",
    "    actor_name.strip(\"\\t\")\n",
    "    actor_id_out.write(str(actor_name) + \"\\t\\t\" + str(count))\n",
    "    actor_id_out.write(\"\\n\") \n",
    "    \n",
    "    outfile.write(str(count))\n",
    "    count += 1\n",
    "    actor_count +=1\n",
    "    temp_movies = {}\n",
    "    for movie in tmp[1:]:\n",
    "        m1 = movie.find(\")\")\n",
    "        movie_name = movie[:m1+1]\n",
    "        movie_name.strip(\" \")\n",
    "        movie_name.strip(\"\\t\")\n",
    "        if movie_name in movie_dict:\n",
    "            movie_dict[movie_name]+= 1\n",
    "        else:\n",
    "            movie_dict[movie_name] = 1\n",
    "            movie_count += 1\n",
    "        if movie_name in temp_movies:\n",
    "            continue\n",
    "        temp_movies[movie_name] = 1\n",
    "        outfile.write(\"\\t\\t\")\n",
    "        outfile.write(str(movie_name))\n",
    "       \n",
    "    outfile.write(\"\\n\")\n",
    "\n",
    "\n",
    "# In[7]:\n",
    "\n",
    "\n",
    "actress_count = 0\n",
    "for line in infile2.readlines():\n",
    "    movies = line[:-1]\n",
    "    tmp=movies.split(\"\\t\\t\")\n",
    "\n",
    "    if len(tmp)<= threshold:\n",
    "        continue\n",
    "    \n",
    "    actor_name = tmp[0]\n",
    "    actor_name.strip(\" \")\n",
    "    actor_name.strip(\"\\t\")\n",
    "    actor_id_out.write(str(actor_name) + \"\\t\\t\" + str(count))\n",
    "    actor_id_out.write(\"\\n\")\n",
    "    \n",
    "    outfile.write(str(count))\n",
    "    count += 1\n",
    "    actress_count +=1\n",
    "    temp_movies = {}\n",
    "    for movie in tmp[1:]:\n",
    "        m1 = movie.find(\")\")\n",
    "        movie_name = movie[:m1+1]\n",
    "        movie_name.strip(\" \")\n",
    "        movie_name.strip(\"\\t\")\n",
    "        if movie_name in movie_dict:\n",
    "            movie_dict[movie_name]+= 1            \n",
    "        else:\n",
    "            movie_dict[movie_name] = 1\n",
    "            movie_count += 1\n",
    "        if movie_name in temp_movies:\n",
    "            continue\n",
    "        temp_movies[movie_name] = 1\n",
    "        outfile.write(\"\\t\\t\")\n",
    "        outfile.write(str(movie_name))\n",
    "        \n",
    "    outfile.write(\"\\n\")\n",
    "\n",
    "outfile.close()\n",
    "actor_id_out.close()\n",
    "\n",
    "print(\"Actor amount: \", actor_count)\n",
    "print(\"Actress amount: \", actress_count)\n",
    "print(\"Movie amount: \", movie_count)"
   ]
  },
  {
   "cell_type": "code",
   "execution_count": 3,
   "metadata": {},
   "outputs": [
    {
     "name": "stdout",
     "output_type": "stream",
     "text": [
      "113132\n"
     ]
    }
   ],
   "source": [
    "print(actor_count+ actress_count)"
   ]
  },
  {
   "cell_type": "code",
   "execution_count": 4,
   "metadata": {},
   "outputs": [],
   "source": [
    "# build edge list\n",
    "edge_outfile = open (\"project4_data_selected/edge_list.txt\",'w',encoding='latin-1')\n",
    "infile3 = open(\"project4_data_selected/preprocessed.txt\",'r',encoding='latin-1')"
   ]
  },
  {
   "cell_type": "code",
   "execution_count": 5,
   "metadata": {},
   "outputs": [],
   "source": [
    "count = 0;\n",
    "threshold = 10\n",
    "actor_nummovies = {}\n",
    "movie_actorlist = {}\n",
    "# {moviename: movieid, actor1, actor2...}\n",
    "movie_id = 0\n",
    "edge_movienum = {}"
   ]
  },
  {
   "cell_type": "code",
   "execution_count": 6,
   "metadata": {},
   "outputs": [],
   "source": [
    "limit = 0\n",
    "for line in infile3.readlines():\n",
    "    line = line[:-1]\n",
    "#     print(line)\n",
    "    tmp=line.split(\"\\t\\t\")\n",
    "    act_id = tmp[0]\n",
    "#     print(act_id)\n",
    "    actor_nummovies[act_id] = len(tmp)-1\n",
    "    for movie in tmp[1:]:\n",
    "        if movie in movie_actorlist:\n",
    "            if act_id not in movie_actorlist[movie]:\n",
    "                movie_actorlist[movie].append(act_id)\n",
    "        else:\n",
    "            movie_actorlist[movie] = []\n",
    "            movie_actorlist[movie].append(movie_id)\n",
    "            movie_actorlist[movie].append(act_id)\n",
    "            movie_id += 1"
   ]
  },
  {
   "cell_type": "code",
   "execution_count": 7,
   "metadata": {},
   "outputs": [],
   "source": [
    "# print(len(movie_actorlist))\n",
    "# print(len(actor_nummovies))"
   ]
  },
  {
   "cell_type": "code",
   "execution_count": 8,
   "metadata": {},
   "outputs": [],
   "source": [
    "# i = 0\n",
    "# for m in movie_actorlist.items():\n",
    "#     if i < 1:\n",
    "#         i = i+1\n",
    "#         print(m)\n",
    "#         print(\"m0\",m[0])\n",
    "#         print(\"m1\",m[1])\n",
    "#         actor_list = m[1]\n",
    "#         for tmp in actor_list:\n",
    "#             print(tmp)\n",
    "        "
   ]
  },
  {
   "cell_type": "code",
   "execution_count": 9,
   "metadata": {},
   "outputs": [
    {
     "name": "stdout",
     "output_type": "stream",
     "text": [
      "Start to construct Edge list\n"
     ]
    }
   ],
   "source": [
    "print(\"Start to construct Edge list\")\n",
    "#Counstruct the hashtable for edge\n",
    "limit = 0\n",
    "for m in movie_actorlist.items():\n",
    "    actor_list = m[1] #movieid, actor1, actor2...\n",
    "#         print(actor_list)\n",
    "#     movie_name = m[0]\n",
    "    if len(actor_list)-1 > 1:\n",
    "        index = len(actor_list)-1\n",
    "        for i in range(1,index):\n",
    "            for j in range(i+1,index+1):\n",
    "                key1 = (int(actor_list[i]),int(actor_list[j]))\n",
    "                key2 = (int(actor_list[j]),int(actor_list[i]))\n",
    "                if key1 in edge_movienum:\n",
    "                    edge_movienum[key1] += 1\n",
    "                    edge_movienum[key2] += 1\n",
    "                else:\n",
    "                    edge_movienum[key1] = 1\n",
    "                    edge_movienum[key2] = 1"
   ]
  },
  {
   "cell_type": "code",
   "execution_count": 10,
   "metadata": {},
   "outputs": [],
   "source": [
    "# print(len(edge_movienum))"
   ]
  },
  {
   "cell_type": "code",
   "execution_count": 38,
   "metadata": {},
   "outputs": [
    {
     "ename": "ValueError",
     "evalue": "I/O operation on closed file.",
     "output_type": "error",
     "traceback": [
      "\u001b[0;31m---------------------------------------------------------------------------\u001b[0m",
      "\u001b[0;31mValueError\u001b[0m                                Traceback (most recent call last)",
      "\u001b[0;32m<ipython-input-38-5f3698f0e4db>\u001b[0m in \u001b[0;36m<module>\u001b[0;34m()\u001b[0m\n\u001b[1;32m      5\u001b[0m     \u001b[0;32mif\u001b[0m \u001b[0mweight\u001b[0m \u001b[0;34m>=\u001b[0m \u001b[0;36m1\u001b[0m\u001b[0;34m:\u001b[0m\u001b[0;34m\u001b[0m\u001b[0m\n\u001b[1;32m      6\u001b[0m         \u001b[0;32mcontinue\u001b[0m\u001b[0;34m;\u001b[0m\u001b[0;34m\u001b[0m\u001b[0m\n\u001b[0;32m----> 7\u001b[0;31m     \u001b[0medge_outfile\u001b[0m\u001b[0;34m.\u001b[0m\u001b[0mwrite\u001b[0m\u001b[0;34m(\u001b[0m\u001b[0mstr\u001b[0m\u001b[0;34m(\u001b[0m\u001b[0mkeypair\u001b[0m\u001b[0;34m[\u001b[0m\u001b[0;36m0\u001b[0m\u001b[0;34m]\u001b[0m\u001b[0;34m[\u001b[0m\u001b[0;36m0\u001b[0m\u001b[0;34m]\u001b[0m\u001b[0;34m)\u001b[0m \u001b[0;34m+\u001b[0m \u001b[0;34m\"\\t\\t\"\u001b[0m \u001b[0;34m+\u001b[0m \u001b[0mstr\u001b[0m\u001b[0;34m(\u001b[0m\u001b[0mkeypair\u001b[0m\u001b[0;34m[\u001b[0m\u001b[0;36m0\u001b[0m\u001b[0;34m]\u001b[0m\u001b[0;34m[\u001b[0m\u001b[0;36m1\u001b[0m\u001b[0;34m]\u001b[0m\u001b[0;34m)\u001b[0m \u001b[0;34m+\u001b[0m \u001b[0;34m\"\\t\\t\"\u001b[0m \u001b[0;34m+\u001b[0m \u001b[0mstr\u001b[0m\u001b[0;34m(\u001b[0m\u001b[0mweight\u001b[0m\u001b[0;34m)\u001b[0m \u001b[0;34m+\u001b[0m \u001b[0;34m\"\\n\"\u001b[0m\u001b[0;34m)\u001b[0m\u001b[0;34m\u001b[0m\u001b[0m\n\u001b[0m\u001b[1;32m      8\u001b[0m \u001b[0medge_outfile\u001b[0m\u001b[0;34m.\u001b[0m\u001b[0mclose\u001b[0m\u001b[0;34m(\u001b[0m\u001b[0;34m)\u001b[0m\u001b[0;34m\u001b[0m\u001b[0m\n",
      "\u001b[0;31mValueError\u001b[0m: I/O operation on closed file."
     ]
    }
   ],
   "source": [
    "for keypair in edge_movienum.items():\n",
    "    # keypair[1] = the frequency of pair<actor1, actor2>\n",
    "    # keypair[0] = <actor1, actor2>\n",
    "    weight = float(keypair[1])/int(actor_nummovies[str(keypair[0][0])]);\n",
    "    if weight >= 1:\n",
    "        continue;\n",
    "    edge_outfile.write(str(keypair[0][0]) + \"\\t\\t\" + str(keypair[0][1]) + \"\\t\\t\" + str(weight) + \"\\n\")\n",
    "edge_outfile.close()"
   ]
  },
  {
   "cell_type": "code",
   "execution_count": 24,
   "metadata": {},
   "outputs": [],
   "source": [
    "edge_movienum_weight = {}\n",
    "for keypair in edge_movienum.items():\n",
    "    # keypair[1] = the frequency of pair<actor1, actor2>\n",
    "    # keypair[0] = <actor1, actor2>\n",
    "    weight = float(keypair[1])/int(actor_nummovies[str(keypair[0][0])]);\n",
    "    if weight >= 1:\n",
    "        continue;\n",
    "    edge_movienum_weight[keypair[0]] = weight"
   ]
  },
  {
   "cell_type": "code",
   "execution_count": 39,
   "metadata": {},
   "outputs": [],
   "source": [
    "# Question 3: find out the actor/actress that has the largest weight edge with given actor\n",
    "namelist = [\"Cruise, Tom\",\"Watson, Emma (II)\",\"Clooney, George\",\"Hanks, Tom\",\"Johnson, Dwayne (I)\",\"Depp, Johnny\",\"Smith, Will (I)\",\"Streep, Meryl\",\"DiCaprio, Leonardo\", \"Pitt, Brad\"]\n",
    "actorid_list = [14503,  111298, 12812,  27258, 32389, 16878, 62774, 107832, 17285,  53248]\n",
    "pair_actor_id_list = []\n",
    "pair_actor_weight_list = []\n",
    "for aid in actorid_list:\n",
    "    max_weight = 0.0\n",
    "    pair_actor_id = -1\n",
    "    for k in edge_movienum_weight.items():\n",
    "        if k[0][0] == aid:\n",
    "            if max_weight < k[1]:\n",
    "                max_weight = k[1]\n",
    "                pair_actor_id = k[0][1]\n",
    "    pair_actor_id_list.append(pair_actor_id)\n",
    "    pair_actor_weight_list.append(max_weight)\n",
    "    "
   ]
  },
  {
   "cell_type": "code",
   "execution_count": 40,
   "metadata": {},
   "outputs": [
    {
     "name": "stdout",
     "output_type": "stream",
     "text": [
      "[92160, 54782, 15209, 1193, 2949, 78310, 22000, 16135, 60365, 12812]\n"
     ]
    }
   ],
   "source": [
    "print(pair_actor_id_list)"
   ]
  },
  {
   "cell_type": "code",
   "execution_count": 41,
   "metadata": {},
   "outputs": [
    {
     "name": "stdout",
     "output_type": "stream",
     "text": [
      "[0.1746031746031746, 0.52, 0.11940298507462686, 0.10126582278481013, 0.20512820512820512, 0.08163265306122448, 0.12244897959183673, 0.061855670103092786, 0.10204081632653061, 0.09859154929577464]\n"
     ]
    }
   ],
   "source": [
    "print(pair_actor_weight_list)"
   ]
  },
  {
   "cell_type": "code",
   "execution_count": 37,
   "metadata": {},
   "outputs": [
    {
     "name": "stdout",
     "output_type": "stream",
     "text": [
      "['6357', '7581', '50344', '85734', '26696', '52784', '32130', '12854', '49651', '33512']\n"
     ]
    }
   ],
   "source": [
    "sorted_movie_amount = sorted(actor_nummovies, key=actor_nummovies.get, reverse = True)\n",
    "top10_actor_id_list_movieamount = []\n",
    "for aid in sorted_movie_amount[0:10]:\n",
    "    top10_actor_id_list_movieamount.append(aid)\n",
    "print(top10_actor_id_list_movieamount)"
   ]
  },
  {
   "cell_type": "code",
   "execution_count": 43,
   "metadata": {},
   "outputs": [
    {
     "name": "stdout",
     "output_type": "stream",
     "text": [
      "dup\n",
      "dup\n",
      "dup\n"
     ]
    }
   ],
   "source": [
    "infile4 = open(\"project4_data_selected/actor_name_id_map.txt\",'r',encoding='latin-1')\n",
    "map_id_name = {}\n",
    "map_name_id = {}\n",
    "for line in infile4.readlines():\n",
    "    tmp=line.split(\"\\t\\t\")\n",
    "    act_name = tmp[0]\n",
    "    act_id = tmp[1]\n",
    "    if act_id in map_id_name:\n",
    "        print(\"dup\")\n",
    "        continue\n",
    "    if act_name in map_name_id:\n",
    "        print(\"dup\")\n",
    "        continue\n",
    "    map_id_name[act_id] = act_name\n",
    "    map_name_id[act_name] = act_id"
   ]
  },
  {
   "cell_type": "code",
   "execution_count": 48,
   "metadata": {},
   "outputs": [],
   "source": [
    "pagerank_top10_act_id = [85734,65947,27643,6539,45415,32130,52784,40351,18112,49651]\n",
    "movie_amount_top10_act_id = []\n",
    "indegree_top10_act_id = []\n",
    "for aid in pagerank_top10_act_id:\n",
    "    movie_amount_top10_act_id.append(actor_nummovies[str(aid)])\n",
    "    temp_degree = 0\n",
    "    for k in edge_movienum.items():\n",
    "        if k[0][1] == aid:\n",
    "            temp_degree+=k[1]\n",
    "    indegree_top10_act_id.append(temp_degree)"
   ]
  },
  {
   "cell_type": "code",
   "execution_count": 49,
   "metadata": {},
   "outputs": [
    {
     "name": "stdout",
     "output_type": "stream",
     "text": [
      "[828, 353, 600, 373, 561, 637, 647, 317, 267, 623]\n",
      "[34763, 11335, 28779, 11632, 25275, 6815, 25055, 9275, 8739, 23395]\n"
     ]
    }
   ],
   "source": [
    "print(movie_amount_top10_act_id)\n",
    "print(indegree_top10_act_id)"
   ]
  },
  {
   "cell_type": "code",
   "execution_count": 50,
   "metadata": {},
   "outputs": [],
   "source": [
    "namelist = [\"Cruise, Tom\",\"Watson, Emma (II)\",\"Clooney, George\",\"Hanks, Tom\",\"Johnson, Dwayne (I)\",\"Depp, Johnny\",\"Smith, Will (I)\",\"Streep, Meryl\",\"DiCaprio, Leonardo\", \"Pitt, Brad\"]\n",
    "actorid_list = [14503,  111298, 12812,  27258, 32389, 16878, 62774, 107832, 17285,  53248]\n",
    "movie_amount_selected10_act_id = []\n",
    "indegree_selected10_act_id = []\n",
    "for aid in actorid_list:\n",
    "    movie_amount_selected10_act_id.append(actor_nummovies[str(aid)])\n",
    "    temp_degree = 0\n",
    "    for k in edge_movienum.items():\n",
    "        if k[0][1] == aid:\n",
    "            temp_degree+=k[1]\n",
    "    indegree_selected10_act_id.append(temp_degree)"
   ]
  },
  {
   "cell_type": "code",
   "execution_count": 51,
   "metadata": {},
   "outputs": [
    {
     "name": "stdout",
     "output_type": "stream",
     "text": [
      "[63, 25, 67, 79, 78, 98, 49, 97, 49, 71]\n",
      "[1842, 752, 1816, 2487, 1867, 2534, 1439, 1863, 1408, 1972]\n"
     ]
    }
   ],
   "source": [
    "print(movie_amount_selected10_act_id)\n",
    "print(indegree_selected10_act_id)"
   ]
  },
  {
   "cell_type": "code",
   "execution_count": null,
   "metadata": {},
   "outputs": [],
   "source": []
  }
 ],
 "metadata": {
  "kernelspec": {
   "display_name": "Python 3",
   "language": "python",
   "name": "python3"
  },
  "language_info": {
   "codemirror_mode": {
    "name": "ipython",
    "version": 3
   },
   "file_extension": ".py",
   "mimetype": "text/x-python",
   "name": "python",
   "nbconvert_exporter": "python",
   "pygments_lexer": "ipython3",
   "version": "3.6.3"
  }
 },
 "nbformat": 4,
 "nbformat_minor": 2
}
