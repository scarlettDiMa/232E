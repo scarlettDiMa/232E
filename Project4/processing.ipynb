{
 "cells": [
  {
   "cell_type": "code",
   "execution_count": 1,
   "metadata": {},
   "outputs": [],
   "source": [
    "outfile = open(\"project4_data_selected/preprocessed.txt\",'w',encoding='latin-1')\n",
    "actor_id_out = open (\"project4_data_selected/actor_name_id_map.txt\",'w',encoding='latin-1')\n",
    "infile1 = open(\"project4_data_selected/actor_movies.txt\",'r',encoding='latin-1')\n",
    "infile2 = open(\"project4_data_selected/actress_movies.txt\",'r',encoding='latin-1')"
   ]
  },
  {
   "cell_type": "code",
   "execution_count": 2,
   "metadata": {},
   "outputs": [
    {
     "name": "stdout",
     "output_type": "stream",
     "text": [
      "Actor amount:  74598\n",
      "Actress amount:  38534\n",
      "Movie amount:  468150\n"
     ]
    }
   ],
   "source": [
    "count = 0\n",
    "movie_count = 0\n",
    "threshold = 10\n",
    "actor_count = 0\n",
    "movie_dict = {}\n",
    "for line in infile1.readlines():\n",
    "    movies = line[:-1]\n",
    "    tmp=movies.split(\"\\t\\t\")\n",
    "    if len(tmp)<= threshold:\n",
    "        continue    \n",
    "    actor_name = tmp[0]\n",
    "    actor_name.strip(\" \")\n",
    "    actor_name.strip(\"\\t\")\n",
    "    actor_id_out.write(str(actor_name) + \"\\t\\t\" + str(count))\n",
    "    actor_id_out.write(\"\\n\") \n",
    "    \n",
    "    outfile.write(str(count))\n",
    "    count += 1\n",
    "    actor_count +=1\n",
    "    temp_movies = {}\n",
    "    for movie in tmp[1:]:\n",
    "        m1 = movie.find(\")\")\n",
    "        movie_name = movie[:m1+1]\n",
    "        movie_name.strip(\" \")\n",
    "        movie_name.strip(\"\\t\")\n",
    "        if movie_name in movie_dict:\n",
    "            movie_dict[movie_name]+= 1\n",
    "        else:\n",
    "            movie_dict[movie_name] = 1\n",
    "            movie_count += 1\n",
    "        if movie_name in temp_movies:\n",
    "            continue\n",
    "        temp_movies[movie_name] = 1\n",
    "        outfile.write(\"\\t\\t\")\n",
    "        outfile.write(str(movie_name))\n",
    "       \n",
    "    outfile.write(\"\\n\")\n",
    "\n",
    "\n",
    "# In[7]:\n",
    "\n",
    "\n",
    "actress_count = 0\n",
    "for line in infile2.readlines():\n",
    "    movies = line[:-1]\n",
    "    tmp=movies.split(\"\\t\\t\")\n",
    "\n",
    "    if len(tmp)<= threshold:\n",
    "        continue\n",
    "    \n",
    "    actor_name = tmp[0]\n",
    "    actor_name.strip(\" \")\n",
    "    actor_name.strip(\"\\t\")\n",
    "    actor_id_out.write(str(actor_name) + \"\\t\\t\" + str(count))\n",
    "    actor_id_out.write(\"\\n\")\n",
    "    \n",
    "    outfile.write(str(count))\n",
    "    count += 1\n",
    "    actress_count +=1\n",
    "    temp_movies = {}\n",
    "    for movie in tmp[1:]:\n",
    "        m1 = movie.find(\")\")\n",
    "        movie_name = movie[:m1+1]\n",
    "        movie_name.strip(\" \")\n",
    "        movie_name.strip(\"\\t\")\n",
    "        if movie_name in movie_dict:\n",
    "            movie_dict[movie_name]+= 1            \n",
    "        else:\n",
    "            movie_dict[movie_name] = 1\n",
    "            movie_count += 1\n",
    "        if movie_name in temp_movies:\n",
    "            continue\n",
    "        temp_movies[movie_name] = 1\n",
    "        outfile.write(\"\\t\\t\")\n",
    "        outfile.write(str(movie_name))\n",
    "        \n",
    "    outfile.write(\"\\n\")\n",
    "\n",
    "outfile.close()\n",
    "actor_id_out.close()\n",
    "\n",
    "print(\"Actor amount: \", actor_count)\n",
    "print(\"Actress amount: \", actress_count)\n",
    "print(\"Movie amount: \", movie_count)"
   ]
  },
  {
   "cell_type": "code",
   "execution_count": 3,
   "metadata": {},
   "outputs": [
    {
     "name": "stdout",
     "output_type": "stream",
     "text": [
      "113132\n"
     ]
    }
   ],
   "source": [
    "print(actor_count+ actress_count)"
   ]
  },
  {
   "cell_type": "code",
   "execution_count": 4,
   "metadata": {},
   "outputs": [],
   "source": [
    "# build edge list\n",
    "edge_outfile = open (\"project4_data_selected/edge_list.txt\",'w',encoding='latin-1')\n",
    "infile3 = open(\"project4_data_selected/preprocessed.txt\",'r',encoding='latin-1')"
   ]
  },
  {
   "cell_type": "code",
   "execution_count": 5,
   "metadata": {},
   "outputs": [],
   "source": [
    "count = 0;\n",
    "threshold = 10\n",
    "actor_nummovies = {}\n",
    "movie_actorlist = {}\n",
    "# {moviename: movieid, actor1, actor2...}\n",
    "movie_id = 0\n",
    "edge_movienum = {}"
   ]
  },
  {
   "cell_type": "code",
   "execution_count": 6,
   "metadata": {},
   "outputs": [],
   "source": [
    "limit = 0\n",
    "for line in infile3.readlines():\n",
    "    line = line[:-1]\n",
    "#     print(line)\n",
    "    tmp=line.split(\"\\t\\t\")\n",
    "    act_id = tmp[0]\n",
    "#     print(act_id)\n",
    "    actor_nummovies[act_id] = len(tmp)-1\n",
    "    for movie in tmp[1:]:\n",
    "        if movie in movie_actorlist:\n",
    "            if act_id not in movie_actorlist[movie]:\n",
    "                movie_actorlist[movie].append(act_id)\n",
    "        else:\n",
    "            movie_actorlist[movie] = []\n",
    "            movie_actorlist[movie].append(movie_id)\n",
    "            movie_actorlist[movie].append(act_id)\n",
    "            movie_id += 1"
   ]
  },
  {
   "cell_type": "code",
   "execution_count": 7,
   "metadata": {},
   "outputs": [],
   "source": [
    "# print(len(movie_actorlist))\n",
    "# print(len(actor_nummovies))"
   ]
  },
  {
   "cell_type": "code",
   "execution_count": 8,
   "metadata": {},
   "outputs": [],
   "source": [
    "# i = 0\n",
    "# for m in movie_actorlist.items():\n",
    "#     if i < 1:\n",
    "#         i = i+1\n",
    "#         print(m)\n",
    "#         print(\"m0\",m[0])\n",
    "#         print(\"m1\",m[1])\n",
    "#         actor_list = m[1]\n",
    "#         for tmp in actor_list:\n",
    "#             print(tmp)\n",
    "        "
   ]
  },
  {
   "cell_type": "code",
   "execution_count": 9,
   "metadata": {},
   "outputs": [
    {
     "name": "stdout",
     "output_type": "stream",
     "text": [
      "Start to construct Edge list\n"
     ]
    }
   ],
   "source": [
    "print(\"Start to construct Edge list\")\n",
    "#Counstruct the hashtable for edge\n",
    "limit = 0\n",
    "for m in movie_actorlist.items():\n",
    "    actor_list = m[1] #movieid, actor1, actor2...\n",
    "#         print(actor_list)\n",
    "#     movie_name = m[0]\n",
    "    if len(actor_list)-1 > 1:\n",
    "        index = len(actor_list)-1\n",
    "        for i in range(1,index):\n",
    "            for j in range(i+1,index+1):\n",
    "                key1 = (int(actor_list[i]),int(actor_list[j]))\n",
    "                key2 = (int(actor_list[j]),int(actor_list[i]))\n",
    "                if key1 in edge_movienum:\n",
    "                    edge_movienum[key1] += 1\n",
    "                    edge_movienum[key2] += 1\n",
    "                else:\n",
    "                    edge_movienum[key1] = 1\n",
    "                    edge_movienum[key2] = 1"
   ]
  },
  {
   "cell_type": "code",
   "execution_count": 10,
   "metadata": {},
   "outputs": [],
   "source": [
    "# print(len(edge_movienum))"
   ]
  },
  {
   "cell_type": "code",
   "execution_count": 11,
   "metadata": {},
   "outputs": [],
   "source": [
    "for keypair in edge_movienum.items():\n",
    "    # keypair[1] = the frequency of pair<actor1, actor2>\n",
    "    # keypair[0] = <actor1, actor2>\n",
    "    weight = float(keypair[1])/int(actor_nummovies[str(keypair[0][0])]);\n",
    "    if weight >= 1:\n",
    "        continue;\n",
    "    edge_outfile.write(str(keypair[0][0]) + \"\\t\\t\" + str(keypair[0][1]) + \"\\t\\t\" + str(weight) + \"\\n\")\n",
    "edge_outfile.close()"
   ]
  },
  {
   "cell_type": "code",
   "execution_count": 12,
   "metadata": {},
   "outputs": [],
   "source": [
    "# i = 0\n",
    "# for keypair in edge_movienum.items():\n",
    "#     if i <1:\n",
    "#         i+=1\n",
    "#         print(keypair[1])\n",
    "#         print(keypair[0][0])"
   ]
  },
  {
   "cell_type": "code",
   "execution_count": null,
   "metadata": {},
   "outputs": [],
   "source": []
  }
 ],
 "metadata": {
  "kernelspec": {
   "display_name": "Python 3",
   "language": "python",
   "name": "python3"
  },
  "language_info": {
   "codemirror_mode": {
    "name": "ipython",
    "version": 3
   },
   "file_extension": ".py",
   "mimetype": "text/x-python",
   "name": "python",
   "nbconvert_exporter": "python",
   "pygments_lexer": "ipython3",
   "version": "3.6.3"
  }
 },
 "nbformat": 4,
 "nbformat_minor": 2
}
