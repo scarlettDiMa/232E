{
 "cells": [
  {
   "cell_type": "code",
   "execution_count": null,
   "metadata": {},
   "outputs": [],
   "source": [
    "gamma = 1.1\n",
    "    \n",
    "N_STATES = 100\n",
    "N_ACTIONS = 4\n",
    "\n",
    "# Formulate a linear IRL problem\n",
    "A = np.zeros([2 * N_STATES * (N_ACTIONS + 1), 3 * N_STATES])\n",
    "b = np.zeros([2 * N_STATES * (N_ACTIONS + 1)])\n",
    "c = np.zeros([3 * N_STATES])\n",
    "\n",
    "for i in range(N_STATES):\n",
    "    a_opt = optimalAction1[i]\n",
    "    tmp_inv = np.linalg.inv(np.identity(N_STATES) - gamma * trans_probs[:, :, a_opt])\n",
    "\n",
    "    cnt = 0\n",
    "    for a in range(N_ACTIONS):\n",
    "        if a != a_opt:\n",
    "            A[i * (N_ACTIONS - 1) + cnt, :N_STATES] = - np.dot(trans_probs[i, :, a_opt] - trans_probs[i, :, a], tmp_inv)\n",
    "            A[N_STATES * (N_ACTIONS - 1) + i * (N_ACTIONS - 1) + cnt, :N_STATES] = - np.dot(trans_probs[i, :, a_opt] - trans_probs[i, :, a], tmp_inv)\n",
    "            A[N_STATES * (N_ACTIONS - 1) + i * (N_ACTIONS - 1) + cnt, N_STATES + i] = 1\n",
    "            cnt += 1\n",
    "\n",
    "for i in range(N_STATES):\n",
    "    A[2 * N_STATES * (N_ACTIONS - 1) + i, i] = 1\n",
    "    b[2 * N_STATES * (N_ACTIONS - 1) + i] = R_max\n",
    "\n",
    "for i in range(N_STATES):\n",
    "    A[2 * N_STATES * (N_ACTIONS - 1) + N_STATES + i, i] = -1\n",
    "    b[2 * N_STATES * (N_ACTIONS - 1) + N_STATES + i] = 0\n",
    "\n",
    "for i in range(N_STATES):\n",
    "    A[2 * N_STATES * (N_ACTIONS - 1) + 2 * N_STATES + i, i] = 1\n",
    "    A[2 * N_STATES * (N_ACTIONS - 1) + 2 * N_STATES + i, 2 * N_STATES + i] = -1\n",
    "\n",
    "for i in range(N_STATES):\n",
    "    A[2 * N_STATES * (N_ACTIONS - 1) + 3 * N_STATES + i, i] = 1\n",
    "    A[2 * N_STATES * (N_ACTIONS - 1) + 3 * N_STATES + i, 2 * N_STATES + i] = -1\n",
    "\n",
    "for i in range(N_STATES):\n",
    "    c[N_STATES:2 * N_STATES] = -1\n",
    "    c[2 * N_STATES:] = l1\n",
    "\n",
    "sol = solvers.lp(matrix(c), matrix(A), matrix(b))\n",
    "rewards = sol['x'][:N_STATES]\n",
    "rewards = normalize(rewards) * R_max"
   ]
  }
 ],
 "metadata": {
  "kernelspec": {
   "display_name": "Python 3",
   "language": "python",
   "name": "python3"
  },
  "language_info": {
   "codemirror_mode": {
    "name": "ipython",
    "version": 3
   },
   "file_extension": ".py",
   "mimetype": "text/x-python",
   "name": "python",
   "nbconvert_exporter": "python",
   "pygments_lexer": "ipython3",
   "version": "3.5.2"
  }
 },
 "nbformat": 4,
 "nbformat_minor": 2
}
