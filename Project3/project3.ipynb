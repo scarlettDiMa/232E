{
 "cells": [
  {
   "cell_type": "code",
   "execution_count": 133,
   "metadata": {},
   "outputs": [],
   "source": [
    "import numpy as np\n",
    "import matplotlib.pyplot as plt \n",
    "import random as rdm\n",
    "import os\n",
    "np.random.seed(0)\n",
    "import seaborn as sns\n",
    "from scipy.optimize import linprog"
   ]
  },
  {
   "cell_type": "code",
   "execution_count": 91,
   "metadata": {},
   "outputs": [],
   "source": [
    "#problem(1)\n",
    "Rfunc1 = np.zeros((10,10))\n",
    "Rfunc1[-1][-1] = 1.0\n",
    "Rfunc2 = np.zeros((10, 10))\n",
    "Rfunc2[1:7,4] = -100.0\n",
    "Rfunc2[1,5] = -100.0\n",
    "Rfunc2[1:4,6] = Rfunc2[7:9,6] = -100.0\n",
    "Rfunc2[3,7] = Rfunc2[7,7] = -100.0\n",
    "Rfunc2[3:8,8] = -100.0\n",
    "Rfunc2[-1][-1] = 10.0"
   ]
  },
  {
   "cell_type": "code",
   "execution_count": 92,
   "metadata": {},
   "outputs": [
    {
     "data": {
      "image/png": "[encoded data removed]",
      "text/plain": [
       "<Figure size 432x288 with 2 Axes>"
      ]
     },
     "metadata": {},
     "output_type": "display_data"
    }
   ],
   "source": [
    "hm1 = sns.heatmap(Rfunc1)"
   ]
  },
  {
   "cell_type": "code",
   "execution_count": 93,
   "metadata": {},
   "outputs": [
    {
     "data": {
      "image/png": "[encoded data removed]",
      "text/plain": [
       "<Figure size 432x288 with 2 Axes>"
      ]
     },
     "metadata": {},
     "output_type": "display_data"
    }
   ],
   "source": [
    "hm2 = sns.heatmap(Rfunc2)"
   ]
  },
  {
   "cell_type": "code",
   "execution_count": 94,
   "metadata": {},
   "outputs": [],
   "source": [
    "#problem2\n",
    "width = 10\n",
    "height = 10\n",
    "tp = np.zeros((height * width, 5, 4)) # third dimension is direction, last denotes action\n",
    "#direction to next state 0 : up 1 : right 2 : down 3 : left 4: stay\n",
    "#action 0 : up 1 : right 2 : down 3 : left\n",
    "w = 0.1\n",
    "dx = [0, 1, 0, -1, 0]\n",
    "dy = [-1, 0, 1, 0, 0]"
   ]
  },
  {
   "cell_type": "code",
   "execution_count": 95,
   "metadata": {},
   "outputs": [],
   "source": [
    "def isCorner(x, y, height, width):\n",
    "    return (((y == height - 1) or (y == 0)) and ((x == width - 1) or (x == 0)))\n",
    "def isEdge(x, y, height, width):\n",
    "    return (x == 0) or (x == height - 1) or (y == 0) or(y == width - 1)\n",
    "def offGrid(x, y, height, width):\n",
    "    return (x < 0) or (x >= height) or (y < 0) or(y >= width)"
   ]
  },
  {
   "cell_type": "code",
   "execution_count": 96,
   "metadata": {},
   "outputs": [],
   "source": [
    "def cornerSol(x, y, tp, height, width, w):\n",
    "    state = x * height + y\n",
    "    for i in range(4): #action\n",
    "        if(offGrid(x + dx[i], y + dy[i], height, width)):\n",
    "            for j in range(4):\n",
    "                if not offGrid(x + dx[j], y + dy[j], height, width):\n",
    "                    tp[state][j][i] = w / 4.0\n",
    "            tp[state][4][i] = 1 - w / 2.0\n",
    "        else:\n",
    "            for j in range(4):\n",
    "                if i == j:\n",
    "                    tp[state][j][i] = 1 - w + w / 4.0\n",
    "                elif not offGrid(x + dx[j], y + dy[j], height, width):\n",
    "                    tp[state][j][i] = w / 4.0\n",
    "            tp[state][4][i] = w / 2.0\n",
    "            \n",
    "def edgeSol(x, y, tp, height, width, w):\n",
    "    state = x * height + y\n",
    "    for i in range(4): #action\n",
    "        if(offGrid(x + dx[i], y + dy[i], height, width)):\n",
    "            for j in range(4):\n",
    "                if not offGrid(x + dx[j], y + dy[j], height, width):\n",
    "                    tp[state][j][i] = w / 4.0\n",
    "            tp[state][4][i] = 1 - w + w / 4.0\n",
    "        else:\n",
    "            for j in range(4):\n",
    "                if i == j:\n",
    "                    tp[state][j][i] = 1 - w + w / 4.0\n",
    "                elif not offGrid(x + dx[j], y + dy[j], height, width):\n",
    "                    tp[state][j][i] = w / 4.0\n",
    "            tp[state][4][i] = w / 4.0   \n",
    "            \n",
    "def innerSol(x, y, tp, height, width, w):\n",
    "    state = x * height + y\n",
    "    for i in range(4): # atcion\n",
    "        for j in range(4):\n",
    "            if i == j:\n",
    "                tp[state][j][i] = 1 - w + w / 4.0\n",
    "            else:\n",
    "                tp[state][j][i] = w / 4.0"
   ]
  },
  {
   "cell_type": "code",
   "execution_count": 97,
   "metadata": {},
   "outputs": [],
   "source": [
    "w = 0.1\n",
    "for i in range(height * width): #calculate transition prob\n",
    "    x = i // height\n",
    "    y = i % height\n",
    "    if isCorner(x, y, height, width):\n",
    "        cornerSol(x, y, tp, height, width, w)\n",
    "    elif isEdge(x, y, height, width):\n",
    "        edgeSol(x, y, tp, height, width, w)\n",
    "    else:\n",
    "        innerSol(x, y, tp, height, width, w)"
   ]
  },
  {
   "cell_type": "code",
   "execution_count": 98,
   "metadata": {},
   "outputs": [],
   "source": [
    "def calStateValue(state, tp, Rfunc, Vs, discount):\n",
    "    value = np.zeros(4)\n",
    "    x = state // height\n",
    "    y = state % height\n",
    "    for action in range(4):\n",
    "        for i in range(5):\n",
    "            x1 = x + dx[i]\n",
    "            y1 = y + dy[i]\n",
    "            if offGrid(x1, y1, height, width):\n",
    "                continue\n",
    "            state1 = x1 * height + y1\n",
    "            value[action] += tp[state][i][action] * (Rfunc[y1][x1] + discount * Vs[state1])\n",
    "    return value\n",
    "def calVs(Vs, tp, Rfunc, discount, theta):\n",
    "    while True:\n",
    "        delta = 0.0\n",
    "        for s in range(width * height):\n",
    "            actionValue = calStateValue(s, tp, Rfunc, Vs, discount)\n",
    "            maxActionValue = max(actionValue)\n",
    "            delta = max(np.abs(maxActionValue - Vs[s]), delta)\n",
    "            Vs[s] = maxActionValue\n",
    "        if delta < theta:\n",
    "            break"
   ]
  },
  {
   "cell_type": "code",
   "execution_count": 99,
   "metadata": {},
   "outputs": [],
   "source": [
    "Vs1 = np.zeros(height * width)\n",
    "discount = 0.8\n",
    "theta = 0.01\n",
    "calVs(Vs1, tp, Rfunc1, discount, theta)#calculate state value for each state"
   ]
  },
  {
   "cell_type": "code",
   "execution_count": 100,
   "metadata": {},
   "outputs": [],
   "source": [
    "from tabulate import tabulate"
   ]
  },
  {
   "cell_type": "code",
   "execution_count": 101,
   "metadata": {},
   "outputs": [
    {
     "name": "stdout",
     "output_type": "stream",
     "text": [
      "╒═══════════╤═══════════╤══════════╤══════════╤══════════╤══════════╤══════════╤══════════╤══════════╤══════════╕\n",
      "│ 0.0417957 │ 0.0628379 │ 0.089742 │ 0.123849 │ 0.167081 │ 0.221883 │ 0.291354 │ 0.37942  │ 0.490983 │ 0.609648 │\n",
      "├───────────┼───────────┼──────────┼──────────┼──────────┼──────────┼──────────┼──────────┼──────────┼──────────┤\n",
      "│ 0.0628379 │ 0.0878701 │ 0.121557 │ 0.164514 │ 0.219246 │ 0.28899  │ 0.377871 │ 0.491061 │ 0.633219 │ 0.787354 │\n",
      "├───────────┼───────────┼──────────┼──────────┼──────────┼──────────┼──────────┼──────────┼──────────┼──────────┤\n",
      "│ 0.089742  │ 0.121557  │ 0.16439  │ 0.219132 │ 0.288903 │ 0.377826 │ 0.491156 │ 0.63549  │ 0.817355 │ 1.0186   │\n",
      "├───────────┼───────────┼──────────┼──────────┼──────────┼──────────┼──────────┼──────────┼──────────┼──────────┤\n",
      "│ 0.123849  │ 0.164514  │ 0.219132 │ 0.2889   │ 0.377825 │ 0.491159 │ 0.635601 │ 0.81961  │ 1.05219  │ 1.31506  │\n",
      "├───────────┼───────────┼──────────┼──────────┼──────────┼──────────┼──────────┼──────────┼──────────┼──────────┤\n",
      "│ 0.167081  │ 0.219246  │ 0.288903 │ 0.377825 │ 0.491159 │ 0.635603 │ 0.819695 │ 1.05427  │ 1.35157  │ 1.69507  │\n",
      "├───────────┼───────────┼──────────┼──────────┼──────────┼──────────┼──────────┼──────────┼──────────┼──────────┤\n",
      "│ 0.221883  │ 0.28899   │ 0.377826 │ 0.491159 │ 0.635603 │ 0.819696 │ 1.05432  │ 1.35332  │ 1.73318  │ 2.18223  │\n",
      "├───────────┼───────────┼──────────┼──────────┼──────────┼──────────┼──────────┼──────────┼──────────┼──────────┤\n",
      "│ 0.291354  │ 0.377871  │ 0.491156 │ 0.635601 │ 0.819695 │ 1.05432  │ 1.35335  │ 1.73446  │ 2.21953  │ 2.8068   │\n",
      "├───────────┼───────────┼──────────┼──────────┼──────────┼──────────┼──────────┼──────────┼──────────┼──────────┤\n",
      "│ 0.37942   │ 0.491061  │ 0.63549  │ 0.81961  │ 1.05427  │ 1.35332  │ 1.73446  │ 2.2202   │ 2.83926  │ 3.60763  │\n",
      "├───────────┼───────────┼──────────┼──────────┼──────────┼──────────┼──────────┼──────────┼──────────┼──────────┤\n",
      "│ 0.490983  │ 0.633219  │ 0.817355 │ 1.05219  │ 1.35157  │ 1.73318  │ 2.21953  │ 2.83926  │ 3.62881  │ 4.63455  │\n",
      "├───────────┼───────────┼──────────┼──────────┼──────────┼──────────┼──────────┼──────────┼──────────┼──────────┤\n",
      "│ 0.609648  │ 0.787354  │ 1.0186   │ 1.31506  │ 1.69507  │ 2.18223  │ 2.8068   │ 3.60763  │ 4.63455  │ 4.70154  │\n",
      "╘═══════════╧═══════════╧══════════╧══════════╧══════════╧══════════╧══════════╧══════════╧══════════╧══════════╛\n"
     ]
    }
   ],
   "source": [
    "Vs1_2d = Vs1.reshape((height, width))\n",
    "print(tabulate(Vs1_2d.T,  tablefmt='fancy_grid'))"
   ]
  },
  {
   "cell_type": "code",
   "execution_count": 102,
   "metadata": {},
   "outputs": [
    {
     "data": {
      "image/png": "[encoded data removed]",
      "text/plain": [
       "<Figure size 432x288 with 2 Axes>"
      ]
     },
     "metadata": {},
     "output_type": "display_data"
    }
   ],
   "source": [
    "#problem3\n",
    "hm3 = sns.heatmap(Vs1_2d.T)"
   ]
  },
  {
   "cell_type": "code",
   "execution_count": 116,
   "metadata": {},
   "outputs": [],
   "source": [
    "#problem5\n",
    "arrows = ['↑','→','↓','←']\n",
    "def calOptimalAction(optimalAction, tp, Rfunc, Vs, discount):\n",
    "    for s in range(height * width):\n",
    "        actionValue = calStateValue(s, tp, Rfunc, Vs, discount)\n",
    "        optimal = np.argmax(actionValue)\n",
    "        optimalAction[s] = optimal\n",
    "def action2Arrow(action, arrows):\n",
    "    return [arrows[int(i)] for i in action]"
   ]
  },
  {
   "cell_type": "code",
   "execution_count": 117,
   "metadata": {},
   "outputs": [],
   "source": [
    "optimalAction1 = np.zeros(height * width)\n",
    "calOptimalAction(optimalAction1, tp, Rfunc1, Vs1, discount)"
   ]
  },
  {
   "cell_type": "code",
   "execution_count": 118,
   "metadata": {},
   "outputs": [
    {
     "name": "stdout",
     "output_type": "stream",
     "text": [
      "╒═══╤═══╤═══╤═══╤═══╤═══╤═══╤═══╤═══╤═══╕\n",
      "│ 2 │ 1 │ 1 │ 1 │ 1 │ 1 │ 1 │ 2 │ 2 │ 2 │\n",
      "├───┼───┼───┼───┼───┼───┼───┼───┼───┼───┤\n",
      "│ 2 │ 1 │ 1 │ 1 │ 1 │ 1 │ 2 │ 2 │ 2 │ 2 │\n",
      "├───┼───┼───┼───┼───┼───┼───┼───┼───┼───┤\n",
      "│ 2 │ 2 │ 1 │ 1 │ 1 │ 2 │ 2 │ 2 │ 2 │ 2 │\n",
      "├───┼───┼───┼───┼───┼───┼───┼───┼───┼───┤\n",
      "│ 2 │ 2 │ 2 │ 2 │ 2 │ 2 │ 2 │ 2 │ 2 │ 2 │\n",
      "├───┼───┼───┼───┼───┼───┼───┼───┼───┼───┤\n",
      "│ 2 │ 2 │ 2 │ 1 │ 2 │ 2 │ 2 │ 2 │ 2 │ 2 │\n",
      "├───┼───┼───┼───┼───┼───┼───┼───┼───┼───┤\n",
      "│ 2 │ 2 │ 1 │ 1 │ 1 │ 1 │ 2 │ 2 │ 2 │ 2 │\n",
      "├───┼───┼───┼───┼───┼───┼───┼───┼───┼───┤\n",
      "│ 2 │ 1 │ 1 │ 1 │ 1 │ 1 │ 1 │ 2 │ 2 │ 2 │\n",
      "├───┼───┼───┼───┼───┼───┼───┼───┼───┼───┤\n",
      "│ 1 │ 1 │ 1 │ 1 │ 1 │ 1 │ 1 │ 1 │ 2 │ 2 │\n",
      "├───┼───┼───┼───┼───┼───┼───┼───┼───┼───┤\n",
      "│ 1 │ 1 │ 1 │ 1 │ 1 │ 1 │ 1 │ 1 │ 1 │ 2 │\n",
      "├───┼───┼───┼───┼───┼───┼───┼───┼───┼───┤\n",
      "│ 1 │ 1 │ 1 │ 1 │ 1 │ 1 │ 1 │ 1 │ 1 │ 1 │\n",
      "╘═══╧═══╧═══╧═══╧═══╧═══╧═══╧═══╧═══╧═══╛\n"
     ]
    }
   ],
   "source": [
    "optimalAction1_2d = optimalAction1.reshape((height, width))\n",
    "arrows1 = action2Arrow(optimalAction1, arrows)\n",
    "path1 = np.array(arrows1).reshape((height,width)).T\n",
    "print(tabulate(optimalAction1_2d.T,  tablefmt='fancy_grid'))"
   ]
  },
  {
   "cell_type": "code",
   "execution_count": 119,
   "metadata": {},
   "outputs": [
    {
     "name": "stdout",
     "output_type": "stream",
     "text": [
      "-  -  -  -  -  -  -  -  -  -\n",
      "↓  →  →  →  →  →  →  ↓  ↓  ↓\n",
      "↓  →  →  →  →  →  ↓  ↓  ↓  ↓\n",
      "↓  ↓  →  →  →  ↓  ↓  ↓  ↓  ↓\n",
      "↓  ↓  ↓  ↓  ↓  ↓  ↓  ↓  ↓  ↓\n",
      "↓  ↓  ↓  →  ↓  ↓  ↓  ↓  ↓  ↓\n",
      "↓  ↓  →  →  →  →  ↓  ↓  ↓  ↓\n",
      "↓  →  →  →  →  →  →  ↓  ↓  ↓\n",
      "→  →  →  →  →  →  →  →  ↓  ↓\n",
      "→  →  →  →  →  →  →  →  →  ↓\n",
      "→  →  →  →  →  →  →  →  →  →\n",
      "-  -  -  -  -  -  -  -  -  -\n"
     ]
    }
   ],
   "source": [
    "print(tabulate(path1))"
   ]
  },
  {
   "cell_type": "code",
   "execution_count": 120,
   "metadata": {},
   "outputs": [],
   "source": [
    "#problem6\n",
    "Vs2 = np.zeros(height * width)\n",
    "calVs(Vs2, tp, Rfunc2, discount, theta)#calculate state value for each state"
   ]
  },
  {
   "cell_type": "code",
   "execution_count": 121,
   "metadata": {},
   "outputs": [
    {
     "name": "stdout",
     "output_type": "stream",
     "text": [
      "╒══════════╤══════════╤══════════╤════════════╤══════════╤════════════╤═══════════╤══════════╤═══════════╤══════════╕\n",
      "│ 0.648477 │ 0.794107 │ 0.825238 │  0.536246  │ -2.37043 │  -4.23382  │ -1.92053  │  1.13111 │  1.59436  │  2.03821 │\n",
      "├──────────┼──────────┼──────────┼────────────┼──────────┼────────────┼───────────┼──────────┼───────────┼──────────┤\n",
      "│ 0.829852 │ 1.02124  │ 1.06603  │ -1.8679    │ -6.73822 │  -8.67375  │ -6.36979  │ -1.2948  │  1.92834  │  2.61047 │\n",
      "├──────────┼──────────┼──────────┼────────────┼──────────┼────────────┼───────────┼──────────┼───────────┼──────────┤\n",
      "│ 1.06361  │ 1.31651  │ 1.45008  │ -1.62403   │ -6.74151 │ -13.9112   │ -9.64923  │ -5.51104 │ -0.131013 │  3.35906 │\n",
      "├──────────┼──────────┼──────────┼────────────┼──────────┼────────────┼───────────┼──────────┼───────────┼──────────┤\n",
      "│ 1.36025  │ 1.6927   │ 1.94802  │ -1.23217   │ -6.32308 │  -7.97761  │ -7.93668  │ -9.42387 │ -1.91443  │  4.39063 │\n",
      "├──────────┼──────────┼──────────┼────────────┼──────────┼────────────┼───────────┼──────────┼───────────┼──────────┤\n",
      "│ 1.73657  │ 2.1716   │ 2.58983  │ -0.725587  │ -5.83073 │  -3.25363  │ -3.2302   │ -7.41906 │  1.71898  │  9.1631  │\n",
      "├──────────┼──────────┼──────────┼────────────┼──────────┼────────────┼───────────┼──────────┼───────────┼──────────┤\n",
      "│ 2.21393  │ 2.78108  │ 3.4171   │ -0.0275631 │ -5.09866 │  -0.549015 │ -0.476653 │ -2.96756 │  6.58652  │ 15.3573  │\n",
      "├──────────┼──────────┼──────────┼────────────┼──────────┼────────────┼───────────┼──────────┼───────────┼──────────┤\n",
      "│ 2.81942  │ 3.5565   │ 4.48239  │  3.02807   │  2.48403 │   2.88409  │ -0.454636 │ -4.89488 │ 12.6923   │ 23.3     │\n",
      "├──────────┼──────────┼──────────┼────────────┼──────────┼────────────┼───────────┼──────────┼───────────┼──────────┤\n",
      "│ 3.58738  │ 4.54274  │ 5.79613  │  7.29199   │  6.72235 │   7.24485  │  0.94117  │ 12.3704  │ 21.1627   │ 33.4861  │\n",
      "├──────────┼──────────┼──────────┼────────────┼──────────┼────────────┼───────────┼──────────┼───────────┼──────────┤\n",
      "│ 4.56133  │ 5.79826  │ 7.40077  │  9.44302   │ 12.0118  │  12.8928   │ 17.101    │ 23.0175  │ 33.7818   │ 46.5324  │\n",
      "├──────────┼──────────┼──────────┼────────────┼──────────┼────────────┼───────────┼──────────┼───────────┼──────────┤\n",
      "│ 5.73     │ 7.31964  │ 9.39116  │ 12.0483    │ 15.4559  │  19.8275   │ 25.5011   │ 36.1612  │ 46.5869   │ 47.315   │\n",
      "╘══════════╧══════════╧══════════╧════════════╧══════════╧════════════╧═══════════╧══════════╧═══════════╧══════════╛\n"
     ]
    }
   ],
   "source": [
    "Vs2_2d = Vs2.reshape((height, width))\n",
    "print(tabulate(Vs2_2d.T,  tablefmt='fancy_grid'))"
   ]
  },
  {
   "cell_type": "code",
   "execution_count": 122,
   "metadata": {},
   "outputs": [
    {
     "data": {
      "image/png": "[encoded data removed]",
      "text/plain": [
       "<Figure size 432x288 with 2 Axes>"
      ]
     },
     "metadata": {},
     "output_type": "display_data"
    }
   ],
   "source": [
    "#problem7\n",
    "hm4 = sns.heatmap(Vs2_2d.T)"
   ]
  },
  {
   "cell_type": "code",
   "execution_count": 123,
   "metadata": {},
   "outputs": [],
   "source": [
    "#problem9\n",
    "optimalAction2 = np.zeros(height * width)\n",
    "calOptimalAction(optimalAction2, tp, Rfunc2, Vs2, discount)"
   ]
  },
  {
   "cell_type": "code",
   "execution_count": 124,
   "metadata": {},
   "outputs": [
    {
     "name": "stdout",
     "output_type": "stream",
     "text": [
      "╒═══╤═══╤═══╤═══╤═══╤═══╤═══╤═══╤═══╤═══╕\n",
      "│ 2 │ 2 │ 2 │ 3 │ 3 │ 1 │ 1 │ 1 │ 1 │ 2 │\n",
      "├───┼───┼───┼───┼───┼───┼───┼───┼───┼───┤\n",
      "│ 2 │ 2 │ 2 │ 3 │ 3 │ 0 │ 1 │ 1 │ 1 │ 2 │\n",
      "├───┼───┼───┼───┼───┼───┼───┼───┼───┼───┤\n",
      "│ 2 │ 2 │ 2 │ 3 │ 3 │ 2 │ 1 │ 1 │ 1 │ 2 │\n",
      "├───┼───┼───┼───┼───┼───┼───┼───┼───┼───┤\n",
      "│ 2 │ 2 │ 2 │ 3 │ 3 │ 2 │ 2 │ 0 │ 1 │ 2 │\n",
      "├───┼───┼───┼───┼───┼───┼───┼───┼───┼───┤\n",
      "│ 2 │ 2 │ 2 │ 3 │ 3 │ 2 │ 2 │ 2 │ 1 │ 2 │\n",
      "├───┼───┼───┼───┼───┼───┼───┼───┼───┼───┤\n",
      "│ 2 │ 2 │ 2 │ 3 │ 3 │ 2 │ 2 │ 3 │ 1 │ 2 │\n",
      "├───┼───┼───┼───┼───┼───┼───┼───┼───┼───┤\n",
      "│ 2 │ 2 │ 2 │ 2 │ 2 │ 2 │ 3 │ 3 │ 1 │ 2 │\n",
      "├───┼───┼───┼───┼───┼───┼───┼───┼───┼───┤\n",
      "│ 2 │ 2 │ 2 │ 2 │ 2 │ 2 │ 3 │ 2 │ 2 │ 2 │\n",
      "├───┼───┼───┼───┼───┼───┼───┼───┼───┼───┤\n",
      "│ 1 │ 1 │ 1 │ 2 │ 2 │ 2 │ 2 │ 2 │ 2 │ 2 │\n",
      "├───┼───┼───┼───┼───┼───┼───┼───┼───┼───┤\n",
      "│ 1 │ 1 │ 1 │ 1 │ 1 │ 1 │ 1 │ 1 │ 1 │ 1 │\n",
      "╘═══╧═══╧═══╧═══╧═══╧═══╧═══╧═══╧═══╧═══╛\n"
     ]
    }
   ],
   "source": [
    "optimalAction2_2d = optimalAction2.reshape((height, width))\n",
    "arrows2 = action2Arrow(optimalAction2, arrows)\n",
    "path2 = np.array(arrows2).reshape((height,width)).T\n",
    "print(tabulate(optimalAction2_2d.T,  tablefmt='fancy_grid'))"
   ]
  },
  {
   "cell_type": "code",
   "execution_count": 125,
   "metadata": {},
   "outputs": [
    {
     "name": "stdout",
     "output_type": "stream",
     "text": [
      "-  -  -  -  -  -  -  -  -  -\n",
      "↓  ↓  ↓  ←  ←  →  →  →  →  ↓\n",
      "↓  ↓  ↓  ←  ←  ↑  →  →  →  ↓\n",
      "↓  ↓  ↓  ←  ←  ↓  →  →  →  ↓\n",
      "↓  ↓  ↓  ←  ←  ↓  ↓  ↑  →  ↓\n",
      "↓  ↓  ↓  ←  ←  ↓  ↓  ↓  →  ↓\n",
      "↓  ↓  ↓  ←  ←  ↓  ↓  ←  →  ↓\n",
      "↓  ↓  ↓  ↓  ↓  ↓  ←  ←  →  ↓\n",
      "↓  ↓  ↓  ↓  ↓  ↓  ←  ↓  ↓  ↓\n",
      "→  →  →  ↓  ↓  ↓  ↓  ↓  ↓  ↓\n",
      "→  →  →  →  →  →  →  →  →  →\n",
      "-  -  -  -  -  -  -  -  -  -\n"
     ]
    }
   ],
   "source": [
    "print(tabulate(path2))"
   ]
  },
  {
   "cell_type": "code",
   "execution_count": 142,
   "metadata": {},
   "outputs": [
    {
     "name": "stdout",
     "output_type": "stream",
     "text": [
      "[2. 2. 2. 2. 2. 2. 2. 1. 1. 1. 1. 1. 2. 2. 2. 2. 1. 1. 1. 1. 1. 1. 1. 2.\n",
      " 2. 1. 1. 1. 1. 1. 1. 1. 1. 2. 1. 1. 1. 1. 1. 1. 1. 1. 1. 2. 2. 1. 1. 1.\n",
      " 1. 1. 1. 1. 2. 2. 2. 1. 1. 1. 1. 1. 1. 2. 2. 2. 2. 2. 1. 1. 1. 1. 2. 2.\n",
      " 2. 2. 2. 2. 2. 1. 1. 1. 2. 2. 2. 2. 2. 2. 2. 2. 1. 1. 2. 2. 2. 2. 2. 2.\n",
      " 2. 2. 2. 1.]\n"
     ]
    }
   ],
   "source": [
    "#Question 11:\n",
    "import numpy as np\n",
    "from cvxopt import solvers\n",
    "lamda_list = np.linspace(1,5,500)\n",
    "trans_probs = tp\n",
    "lamda = lamda_list[0]\n",
    "print(optimalAction1)"
   ]
  },
  {
   "cell_type": "code",
   "execution_count": 217,
   "metadata": {},
   "outputs": [],
   "source": [
    "# def calculate_accuracy(oa, oe):\n",
    "#     for s in range(0,100):\n",
    "        \n",
    "tp = np.zeros((100,4,100))"
   ]
  },
  {
   "cell_type": "code",
   "execution_count": 218,
   "metadata": {},
   "outputs": [],
   "source": [
    "def calculate_LP_D(a, s, policy, gamma, tp):\n",
    "    return np.dot(tp[int(policy[s]), s] - tp[a, s], np.linalg.inv(np.eye(100) - gamma*tp[int(policy[s])]))"
   ]
  },
  {
   "cell_type": "code",
   "execution_count": 219,
   "metadata": {},
   "outputs": [
    {
     "name": "stdout",
     "output_type": "stream",
     "text": [
      "(100, 400)\n"
     ]
    }
   ],
   "source": [
    "n_states = 100\n",
    "\n",
    "policy = optimalAction1\n",
    "C = -np.hstack([np.zeros([100,100]), np.ones([100,100]),\n",
    "                    -lamda*np.ones([100,100]), np.zeros([100,100])])\n",
    "print(C.shape)"
   ]
  },
  {
   "cell_type": "code",
   "execution_count": 220,
   "metadata": {},
   "outputs": [
    {
     "name": "stdout",
     "output_type": "stream",
     "text": [
      "(4, 100, 100)\n",
      "(300, 100)\n",
      "(300, 400)\n"
     ]
    }
   ],
   "source": [
    "A = {0,1,2,3}\n",
    "transition_probability = np.transpose(tp, (1, 0, 2))\n",
    "print(transition_probability.shape)\n",
    "# LP_D1 = np.vstack([\n",
    "#         -calculate_LP_D(a, s, policy, gamma, tp)\n",
    "#         for s in range(100)\n",
    "#         for a in All_actions - {policy[s]}\n",
    "#     ])\n",
    "gamma = 1.1\n",
    "T_stack = np.vstack([\n",
    "        -calculate_LP_D(a, s, policy, gamma, transition_probability)\n",
    "        for s in range(n_states)\n",
    "        for a in A - {policy[s]}\n",
    "    ])\n",
    "\n",
    "print(T_stack.shape)\n",
    "D_1 = np.hstack([T_stack,np.zeros((300,100)),np.zeros((300,100)),np.zeros((300,100))])\n",
    "print(D_1.shape)\n"
   ]
  },
  {
   "cell_type": "code",
   "execution_count": 221,
   "metadata": {},
   "outputs": [
    {
     "name": "stdout",
     "output_type": "stream",
     "text": [
      "[[1. 0. 0. ... 0. 0. 0.]\n",
      " [1. 0. 0. ... 0. 0. 0.]\n",
      " [1. 0. 0. ... 0. 0. 0.]\n",
      " ...\n",
      " [0. 0. 0. ... 0. 0. 1.]\n",
      " [0. 0. 0. ... 0. 0. 1.]\n",
      " [0. 0. 0. ... 0. 0. 1.]]\n",
      "(300, 100)\n"
     ]
    }
   ],
   "source": [
    "I_stack1 = np.vstack([\n",
    "        np.eye(1, n_states, s)\n",
    "        for s in range(n_states)\n",
    "        for a in A - {policy[s]}\n",
    "    ])\n",
    "print(I_stack1)\n",
    "print(I_stack1.shape)"
   ]
  },
  {
   "cell_type": "code",
   "execution_count": 210,
   "metadata": {},
   "outputs": [
    {
     "name": "stdout",
     "output_type": "stream",
     "text": [
      "(100, 100)\n",
      "[[1. 1. 1. ... 1. 1. 1.]\n",
      " [1. 1. 1. ... 1. 1. 1.]\n",
      " [1. 1. 1. ... 1. 1. 1.]\n",
      " ...\n",
      " [1. 1. 1. ... 1. 1. 1.]\n",
      " [1. 1. 1. ... 1. 1. 1.]\n",
      " [1. 1. 1. ... 1. 1. 1.]]\n",
      "(700, 400)\n"
     ]
    }
   ],
   "source": [
    "I_stack2 = np.ones((100,100))\n",
    "print(I_stack2.shape)\n",
    "print(I_stack2)\n",
    "D_2 = np.hstack([I_stack2,np.zeros((100,100)),-I_stack2,np.zeros((100,100))])\n",
    "D_3 = np.hstack([-I_stack2,np.zeros((100,100)),-I_stack2,np.zeros((100,100))])\n",
    "D_4 = np.hstack([I_stack2,np.zeros((100,100)),np.zeros((100,100)),I_stack2])\n",
    "D_5 = np.hstack([-I_stack2,np.zeros((100,100)),np.zeros((100,100)),-I_stack2])\n",
    "D = np.vstack([D_1, D_2, D_3, D_4, D_5])\n",
    "print(D.shape)"
   ]
  },
  {
   "cell_type": "code",
   "execution_count": 205,
   "metadata": {},
   "outputs": [],
   "source": [
    "# zero_stack2 = np.zeros((n_states, n_states))\n",
    "# print(zero_stack2)\n",
    "# print(zero_stack2.shape)"
   ]
  },
  {
   "cell_type": "code",
   "execution_count": 204,
   "metadata": {},
   "outputs": [],
   "source": [
    "# zero_stack1 = np.zeros((n_states*(4-1), n_states))\n",
    "# print(zero_stack1)\n",
    "# print(zero_stack1.shape)"
   ]
  },
  {
   "cell_type": "code",
   "execution_count": 216,
   "metadata": {},
   "outputs": [
    {
     "name": "stdout",
     "output_type": "stream",
     "text": [
      "300 2\n"
     ]
    }
   ],
   "source": [
    "Rmax = 1\n",
    "# bounds = np.array([(None, None)]*2*n_states + [(-Rmax, Rmax)]*n_states)\n",
    "# print(bounds)\n",
    "# print(bounds.shape)\n",
    "print(300, 2)"
   ]
  },
  {
   "cell_type": "code",
   "execution_count": 215,
   "metadata": {},
   "outputs": [
    {
     "name": "stdout",
     "output_type": "stream",
     "text": [
      "200 300\n"
     ]
    }
   ],
   "source": [
    "# D_bounds = np.hstack([\n",
    "#         np.vstack([\n",
    "#             -np.eye(n_states),\n",
    "#             np.eye(n_states)]),\n",
    "#         np.vstack([\n",
    "#             np.zeros((n_states, n_states)),\n",
    "#             np.zeros((n_states, n_states))]),\n",
    "#         np.vstack([\n",
    "#             np.zeros((n_states, n_states)),\n",
    "#             np.zeros((n_states, n_states))])])\n",
    "\n",
    "# print(D_bounds)\n",
    "# print(D_bounds.shape)\n",
    "print(200, 300)"
   ]
  },
  {
   "cell_type": "code",
   "execution_count": 214,
   "metadata": {},
   "outputs": [
    {
     "name": "stdout",
     "output_type": "stream",
     "text": [
      "1000 1\n"
     ]
    }
   ],
   "source": [
    "# n_actions = 4\n",
    "# b = np.zeros((n_states*(n_actions-1)*2 + 2*n_states, 1))\n",
    "# b_bounds = np.vstack([Rmax*np.ones((n_states, 1))]*2)\n",
    "# b = np.vstack((b, b_bounds))\n",
    "# print(b.shape)\n",
    "print(1000, 1)"
   ]
  },
  {
   "cell_type": "code",
   "execution_count": 213,
   "metadata": {},
   "outputs": [
    {
     "name": "stdout",
     "output_type": "stream",
     "text": [
      "1000 300\n"
     ]
    }
   ],
   "source": [
    "# D_left = np.vstack([T_stack, T_stack, -I_stack2, I_stack2])\n",
    "# D_middle = np.vstack([I_stack1, zero_stack1, zero_stack2, zero_stack2])\n",
    "# D_right = np.vstack([zero_stack1, zero_stack1, -I_stack2, -I_stack2])\n",
    "\n",
    "# D = np.hstack([D_left, D_middle, D_right])\n",
    "# D = np.vstack((D, D_bounds))\n",
    "# print(D.shape)\n",
    "print(1000,300)"
   ]
  },
  {
   "cell_type": "code",
   "execution_count": 212,
   "metadata": {},
   "outputs": [
    {
     "ename": "AttributeError",
     "evalue": "'cvxopt.base.matrix' object has no attribute 'shape'",
     "output_type": "error",
     "traceback": [
      "\u001b[0;31m---------------------------------------------------------------------------\u001b[0m",
      "\u001b[0;31mAttributeError\u001b[0m                            Traceback (most recent call last)",
      "\u001b[0;32m<ipython-input-212-647b56ec6e86>\u001b[0m in \u001b[0;36m<module>\u001b[0;34m()\u001b[0m\n\u001b[1;32m      4\u001b[0m \u001b[0mb\u001b[0m \u001b[0;34m=\u001b[0m \u001b[0mmatrix\u001b[0m\u001b[0;34m(\u001b[0m\u001b[0mb\u001b[0m\u001b[0;34m)\u001b[0m\u001b[0;34m\u001b[0m\u001b[0m\n\u001b[1;32m      5\u001b[0m \u001b[0mc\u001b[0m \u001b[0;34m=\u001b[0m \u001b[0mmatrix\u001b[0m\u001b[0;34m(\u001b[0m\u001b[0mc\u001b[0m\u001b[0;34m)\u001b[0m\u001b[0;34m\u001b[0m\u001b[0m\n\u001b[0;32m----> 6\u001b[0;31m \u001b[0mprint\u001b[0m\u001b[0;34m(\u001b[0m\u001b[0mA_ub\u001b[0m\u001b[0;34m.\u001b[0m\u001b[0mshape\u001b[0m\u001b[0;34m)\u001b[0m\u001b[0;34m\u001b[0m\u001b[0m\n\u001b[0m\u001b[1;32m      7\u001b[0m \u001b[0mresults\u001b[0m \u001b[0;34m=\u001b[0m \u001b[0msolvers\u001b[0m\u001b[0;34m.\u001b[0m\u001b[0mlp\u001b[0m\u001b[0;34m(\u001b[0m\u001b[0mc\u001b[0m\u001b[0;34m,\u001b[0m \u001b[0mA_ub\u001b[0m\u001b[0;34m,\u001b[0m \u001b[0mb\u001b[0m\u001b[0;34m)\u001b[0m\u001b[0;34m\u001b[0m\u001b[0m\n\u001b[1;32m      8\u001b[0m \u001b[0mr\u001b[0m \u001b[0;34m=\u001b[0m \u001b[0mnp\u001b[0m\u001b[0;34m.\u001b[0m\u001b[0masarray\u001b[0m\u001b[0;34m(\u001b[0m\u001b[0mresults\u001b[0m\u001b[0;34m[\u001b[0m\u001b[0;34m\"x\"\u001b[0m\u001b[0;34m]\u001b[0m\u001b[0;34m[\u001b[0m\u001b[0;34m:\u001b[0m\u001b[0mn_states\u001b[0m\u001b[0;34m]\u001b[0m\u001b[0;34m,\u001b[0m \u001b[0mdtype\u001b[0m\u001b[0;34m=\u001b[0m\u001b[0mnp\u001b[0m\u001b[0;34m.\u001b[0m\u001b[0mdouble\u001b[0m\u001b[0;34m)\u001b[0m\u001b[0;34m\u001b[0m\u001b[0m\n",
      "\u001b[0;31mAttributeError\u001b[0m: 'cvxopt.base.matrix' object has no attribute 'shape'"
     ]
    }
   ],
   "source": [
    "from cvxopt import matrix, solvers\n",
    "print(D.shape)\n",
    "A_ub = matrix(D)\n",
    "b = np.zeros((700, 1))\n",
    "b = matrix(b)\n",
    "c = matrix(c)\n",
    "\n",
    "results = solvers.lp(c, A_ub, b)\n",
    "r = np.asarray(results[\"x\"][:n_states], dtype=np.double)\n",
    "\n",
    "return r.reshape((n_states,))"
   ]
  },
  {
   "cell_type": "code",
   "execution_count": null,
   "metadata": {},
   "outputs": [],
   "source": []
  }
 ],
 "metadata": {
  "kernelspec": {
   "display_name": "Python 3",
   "language": "python",
   "name": "python3"
  },
  "language_info": {
   "codemirror_mode": {
    "name": "ipython",
    "version": 3
   },
   "file_extension": ".py",
   "mimetype": "text/x-python",
   "name": "python",
   "nbconvert_exporter": "python",
   "pygments_lexer": "ipython3",
   "version": "3.5.2"
  }
 },
 "nbformat": 4,
 "nbformat_minor": 2
}
