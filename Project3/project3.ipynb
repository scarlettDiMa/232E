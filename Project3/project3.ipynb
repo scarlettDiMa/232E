{
 "cells": [
  {
   "cell_type": "code",
   "execution_count": 14,
   "metadata": {},
   "outputs": [],
   "source": [
    "import numpy as np\n",
    "import matplotlib.pyplot as plt \n",
    "import matplotlib\n",
    "import random as rdm\n",
    "import os\n",
    "np.random.seed(0)\n",
    "import seaborn as sns; "
   ]
  },
  {
   "cell_type": "code",
   "execution_count": 41,
   "metadata": {},
   "outputs": [],
   "source": [
    "#problem(1)\n",
    "Rfunc1 = np.zeros((10,10))\n",
    "Rfunc1[-1][-1] = 1.0\n",
    "Rfunc2 = np.zeros((10, 10))\n",
    "Rfunc2[1:7,4] = -100.0\n",
    "Rfunc2[1,5] = -100.0\n",
    "Rfunc2[1:4,6] = Rfunc2[7:9,6] = -100.0\n",
    "Rfunc2[3,7] = Rfunc2[7,7] = -100.0\n",
    "Rfunc2[3:8,8] = -100.0\n",
    "Rfunc2[-1][-1] = 10.0"
   ]
  },
  {
   "cell_type": "code",
   "execution_count": 45,
   "metadata": {},
   "outputs": [
    {
     "data": {
      "image/png": "[encoded data removed]",
      "text/plain": [
       "<matplotlib.figure.Figure at 0x1a17b48da0>"
      ]
     },
     "metadata": {},
     "output_type": "display_data"
    }
   ],
   "source": [
    "hm1 = sns.heatmap(Rfunc1)"
   ]
  },
  {
   "cell_type": "code",
   "execution_count": 46,
   "metadata": {},
   "outputs": [
    {
     "data": {
      "image/png": "[encoded data removed]",
      "text/plain": [
       "<matplotlib.figure.Figure at 0x1a17e78278>"
      ]
     },
     "metadata": {},
     "output_type": "display_data"
    }
   ],
   "source": [
    "hm2 = sns.heatmap(Rfunc2)"
   ]
  },
  {
   "cell_type": "code",
   "execution_count": 47,
   "metadata": {},
   "outputs": [],
   "source": [
    "#problem2\n",
    "width = 10\n",
    "height = 10\n",
    "tp = np.zeros((height * width, 5, 4)) # third dimension is direction, last denotes action\n",
    "#direction to next state 0 : up 1 : right 2 : down 3 : left 4: stay\n",
    "#action 0 : up 1 : right 2 : down 3 : left\n",
    "w = 0.1\n",
    "dx = [0, 1, 0, -1, 0]\n",
    "dy = [-1, 0, 1, 0, 0]"
   ]
  },
  {
   "cell_type": "code",
   "execution_count": 48,
   "metadata": {},
   "outputs": [],
   "source": [
    "def isCorner(x, y, height, width):\n",
    "    return (((y == height - 1) or (y == 0)) and ((x == width - 1) or (x == 0)))\n",
    "def isEdge(x, y, height, width):\n",
    "    return (x == 0) or (x == height - 1) or (y == 0) or(y == width - 1)\n",
    "def offGrid(x, y, height, width):\n",
    "    return (x < 0) or (x >= height) or (y < 0) or(y >= width)"
   ]
  },
  {
   "cell_type": "code",
   "execution_count": 49,
   "metadata": {},
   "outputs": [],
   "source": [
    "def cornerSol(x, y, tp, height, width, w):\n",
    "    state = x * height + y\n",
    "    for i in range(4): #action\n",
    "        if(offGrid(x + dx[i], y + dy[i], height, width)):\n",
    "            for j in range(4):\n",
    "                if not offGrid(x + dx[j], y + dy[j], height, width):\n",
    "                    tp[state][j][i] = w / 4.0\n",
    "            tp[state][4][i] = 1 - w / 2.0\n",
    "        else:\n",
    "            for j in range(4):\n",
    "                if i == j:\n",
    "                    tp[state][j][i] = 1 - w + w / 4.0\n",
    "                elif not offGrid(x + dx[j], y + dy[j], height, width):\n",
    "                    tp[state][j][i] = w / 4.0\n",
    "            tp[state][4][i] = w / 2.0\n",
    "            \n",
    "def edgeSol(x, y, tp, height, width, w):\n",
    "    state = x * height + y\n",
    "    for i in range(4): #action\n",
    "        if(offGrid(x + dx[i], y + dy[i], height, width)):\n",
    "            for j in range(4):\n",
    "                if not offGrid(x + dx[j], y + dy[j], height, width):\n",
    "                    tp[state][j][i] = w / 4.0\n",
    "            tp[state][4][i] = 1 - w + w / 4.0\n",
    "        else:\n",
    "            for j in range(4):\n",
    "                if i == j:\n",
    "                    tp[state][j][i] = 1 - w + w / 4.0\n",
    "                elif not offGrid(x + dx[j], y + dy[j], height, width):\n",
    "                    tp[state][j][i] = w / 4.0\n",
    "            tp[state][4][i] = w / 4.0   \n",
    "            \n",
    "def innerSol(x, y, tp, height, width, w):\n",
    "    state = x * height + y\n",
    "    for i in range(4): # atcion\n",
    "        for j in range(4):\n",
    "            if i == j:\n",
    "                tp[state][j][i] = 1 - w + w / 4.0\n",
    "            else:\n",
    "                tp[state][j][i] = w / 4.0"
   ]
  },
  {
   "cell_type": "code",
   "execution_count": 50,
   "metadata": {},
   "outputs": [],
   "source": [
    "w = 0.1\n",
    "for i in range(height * width): #calculate transition prob\n",
    "    x = i // height\n",
    "    y = i % height\n",
    "    if isCorner(x, y, height, width):\n",
    "        cornerSol(x, y, tp, height, width, w)\n",
    "    elif isEdge(x, y, height, width):\n",
    "        edgeSol(x, y, tp, height, width, w)\n",
    "    else:\n",
    "        innerSol(x, y, tp, height, width, w)"
   ]
  },
  {
   "cell_type": "code",
   "execution_count": 55,
   "metadata": {},
   "outputs": [],
   "source": [
    "def calStateValue(state, tp, Rfunc, Vs, discount):\n",
    "    value = np.zeros(4)\n",
    "    x = state // height\n",
    "    y = state % height\n",
    "    for action in range(4):\n",
    "        for i in range(5):\n",
    "            x1 = x + dx[i]\n",
    "            y1 = y + dy[i]\n",
    "            if offGrid(x1, y1, height, width):\n",
    "                continue\n",
    "            state1 = x1 * height + y1\n",
    "            value[action] += tp[state][i][action] * (Rfunc[y1][x1] + discount * Vs[state1])\n",
    "    return value\n",
    "def calVs(Vs, tp, Rfunc, discount, theta):\n",
    "    while True:\n",
    "        delta = 0.0\n",
    "        for s in range(width * height):\n",
    "            actionValue = calStateValue(s, tp, Rfunc, Vs, discount)\n",
    "            maxActionValue = max(actionValue)\n",
    "            delta = max(np.abs(maxActionValue - Vs[s]), delta)\n",
    "            Vs[s] = maxActionValue\n",
    "        if delta < theta:\n",
    "            break"
   ]
  },
  {
   "cell_type": "code",
   "execution_count": 59,
   "metadata": {},
   "outputs": [],
   "source": [
    "Vs1 = np.zeros(height * width)\n",
    "discount = 0.8\n",
    "theta = 0.01\n",
    "calVs(Vs1, tp, Rfunc1, discount, theta)#calculate state value for each state"
   ]
  },
  {
   "cell_type": "code",
   "execution_count": 61,
   "metadata": {},
   "outputs": [],
   "source": [
    "from tabulate import tabulate"
   ]
  },
  {
   "cell_type": "code",
   "execution_count": 64,
   "metadata": {},
   "outputs": [
    {
     "name": "stdout",
     "output_type": "stream",
     "text": [
      "╒═══════════╤═══════════╤══════════╤══════════╤══════════╤══════════╤══════════╤══════════╤══════════╤══════════╕\n",
      "│ 0.0417957 │ 0.0628379 │ 0.089742 │ 0.123849 │ 0.167081 │ 0.221883 │ 0.291354 │ 0.37942  │ 0.490983 │ 0.609648 │\n",
      "├───────────┼───────────┼──────────┼──────────┼──────────┼──────────┼──────────┼──────────┼──────────┼──────────┤\n",
      "│ 0.0628379 │ 0.0878701 │ 0.121557 │ 0.164514 │ 0.219246 │ 0.28899  │ 0.377871 │ 0.491061 │ 0.633219 │ 0.787354 │\n",
      "├───────────┼───────────┼──────────┼──────────┼──────────┼──────────┼──────────┼──────────┼──────────┼──────────┤\n",
      "│ 0.089742  │ 0.121557  │ 0.16439  │ 0.219132 │ 0.288903 │ 0.377826 │ 0.491156 │ 0.63549  │ 0.817355 │ 1.0186   │\n",
      "├───────────┼───────────┼──────────┼──────────┼──────────┼──────────┼──────────┼──────────┼──────────┼──────────┤\n",
      "│ 0.123849  │ 0.164514  │ 0.219132 │ 0.2889   │ 0.377825 │ 0.491159 │ 0.635601 │ 0.81961  │ 1.05219  │ 1.31506  │\n",
      "├───────────┼───────────┼──────────┼──────────┼──────────┼──────────┼──────────┼──────────┼──────────┼──────────┤\n",
      "│ 0.167081  │ 0.219246  │ 0.288903 │ 0.377825 │ 0.491159 │ 0.635603 │ 0.819695 │ 1.05427  │ 1.35157  │ 1.69507  │\n",
      "├───────────┼───────────┼──────────┼──────────┼──────────┼──────────┼──────────┼──────────┼──────────┼──────────┤\n",
      "│ 0.221883  │ 0.28899   │ 0.377826 │ 0.491159 │ 0.635603 │ 0.819696 │ 1.05432  │ 1.35332  │ 1.73318  │ 2.18223  │\n",
      "├───────────┼───────────┼──────────┼──────────┼──────────┼──────────┼──────────┼──────────┼──────────┼──────────┤\n",
      "│ 0.291354  │ 0.377871  │ 0.491156 │ 0.635601 │ 0.819695 │ 1.05432  │ 1.35335  │ 1.73446  │ 2.21953  │ 2.8068   │\n",
      "├───────────┼───────────┼──────────┼──────────┼──────────┼──────────┼──────────┼──────────┼──────────┼──────────┤\n",
      "│ 0.37942   │ 0.491061  │ 0.63549  │ 0.81961  │ 1.05427  │ 1.35332  │ 1.73446  │ 2.2202   │ 2.83926  │ 3.60763  │\n",
      "├───────────┼───────────┼──────────┼──────────┼──────────┼──────────┼──────────┼──────────┼──────────┼──────────┤\n",
      "│ 0.490983  │ 0.633219  │ 0.817355 │ 1.05219  │ 1.35157  │ 1.73318  │ 2.21953  │ 2.83926  │ 3.62881  │ 4.63455  │\n",
      "├───────────┼───────────┼──────────┼──────────┼──────────┼──────────┼──────────┼──────────┼──────────┼──────────┤\n",
      "│ 0.609648  │ 0.787354  │ 1.0186   │ 1.31506  │ 1.69507  │ 2.18223  │ 2.8068   │ 3.60763  │ 4.63455  │ 4.70154  │\n",
      "╘═══════════╧═══════════╧══════════╧══════════╧══════════╧══════════╧══════════╧══════════╧══════════╧══════════╛\n"
     ]
    }
   ],
   "source": [
    "Vs1_2d = Vs1.reshape((height, width))\n",
    "print(tabulate(Vs1_2d.T,  tablefmt='fancy_grid'))"
   ]
  },
  {
   "cell_type": "code",
   "execution_count": 65,
   "metadata": {},
   "outputs": [
    {
     "data": {
      "image/png": "[encoded data removed]",
      "text/plain": [
       "<matplotlib.figure.Figure at 0x1a1811e668>"
      ]
     },
     "metadata": {},
     "output_type": "display_data"
    }
   ],
   "source": [
    "#problem3\n",
    "hm3 = sns.heatmap(Vs1_2d.T)"
   ]
  },
  {
   "cell_type": "code",
   "execution_count": 71,
   "metadata": {},
   "outputs": [],
   "source": [
    "#problem5\n",
    "arrows = ['↑','→','↓','←']\n",
    "def calOptimalAction(optimalAction, tp, Rfunc, Vs, discount):\n",
    "    for s in range(height * width):\n",
    "        actionValue = calStateValue(s, tp, Rfunc, Vs, discount)\n",
    "        optimal = np.argmax(actionValue)\n",
    "        optimalAction[s] = optimal\n",
    "def action2Arrow(action, arrows):\n",
    "    return [arrows[int(i)] for i in action]"
   ]
  },
  {
   "cell_type": "code",
   "execution_count": 72,
   "metadata": {},
   "outputs": [],
   "source": [
    "optimalAction1 = np.zeros(height * width)\n",
    "calOptimalAction(optimalAction1, tp, Rfunc1, Vs1, discount)"
   ]
  },
  {
   "cell_type": "code",
   "execution_count": 73,
   "metadata": {},
   "outputs": [
    {
     "name": "stdout",
     "output_type": "stream",
     "text": [
      "╒═══╤═══╤═══╤═══╤═══╤═══╤═══╤═══╤═══╤═══╕\n",
      "│ 2 │ 1 │ 1 │ 1 │ 1 │ 1 │ 1 │ 2 │ 2 │ 2 │\n",
      "├───┼───┼───┼───┼───┼───┼───┼───┼───┼───┤\n",
      "│ 2 │ 1 │ 1 │ 1 │ 1 │ 1 │ 2 │ 2 │ 2 │ 2 │\n",
      "├───┼───┼───┼───┼───┼───┼───┼───┼───┼───┤\n",
      "│ 2 │ 2 │ 1 │ 1 │ 1 │ 2 │ 2 │ 2 │ 2 │ 2 │\n",
      "├───┼───┼───┼───┼───┼───┼───┼───┼───┼───┤\n",
      "│ 2 │ 2 │ 2 │ 2 │ 2 │ 2 │ 2 │ 2 │ 2 │ 2 │\n",
      "├───┼───┼───┼───┼───┼───┼───┼───┼───┼───┤\n",
      "│ 2 │ 2 │ 2 │ 1 │ 2 │ 2 │ 2 │ 2 │ 2 │ 2 │\n",
      "├───┼───┼───┼───┼───┼───┼───┼───┼───┼───┤\n",
      "│ 2 │ 2 │ 1 │ 1 │ 1 │ 1 │ 2 │ 2 │ 2 │ 2 │\n",
      "├───┼───┼───┼───┼───┼───┼───┼───┼───┼───┤\n",
      "│ 2 │ 1 │ 1 │ 1 │ 1 │ 1 │ 1 │ 2 │ 2 │ 2 │\n",
      "├───┼───┼───┼───┼───┼───┼───┼───┼───┼───┤\n",
      "│ 1 │ 1 │ 1 │ 1 │ 1 │ 1 │ 1 │ 1 │ 2 │ 2 │\n",
      "├───┼───┼───┼───┼───┼───┼───┼───┼───┼───┤\n",
      "│ 1 │ 1 │ 1 │ 1 │ 1 │ 1 │ 1 │ 1 │ 1 │ 2 │\n",
      "├───┼───┼───┼───┼───┼───┼───┼───┼───┼───┤\n",
      "│ 1 │ 1 │ 1 │ 1 │ 1 │ 1 │ 1 │ 1 │ 1 │ 1 │\n",
      "╘═══╧═══╧═══╧═══╧═══╧═══╧═══╧═══╧═══╧═══╛\n"
     ]
    }
   ],
   "source": [
    "optimalAction1_2d = optimalAction1.reshape((height, width))\n",
    "arrows1 = action2Arrow(optimalAction1, arrows)\n",
    "path1 = np.array(arrows1).reshape((height,width)).T\n",
    "print(tabulate(optimalAction1_2d.T,  tablefmt='fancy_grid'))"
   ]
  },
  {
   "cell_type": "code",
   "execution_count": 74,
   "metadata": {},
   "outputs": [
    {
     "name": "stdout",
     "output_type": "stream",
     "text": [
      "-  -  -  -  -  -  -  -  -  -\n",
      "↓  →  →  →  →  →  →  ↓  ↓  ↓\n",
      "↓  →  →  →  →  →  ↓  ↓  ↓  ↓\n",
      "↓  ↓  →  →  →  ↓  ↓  ↓  ↓  ↓\n",
      "↓  ↓  ↓  ↓  ↓  ↓  ↓  ↓  ↓  ↓\n",
      "↓  ↓  ↓  →  ↓  ↓  ↓  ↓  ↓  ↓\n",
      "↓  ↓  →  →  →  →  ↓  ↓  ↓  ↓\n",
      "↓  →  →  →  →  →  →  ↓  ↓  ↓\n",
      "→  →  →  →  →  →  →  →  ↓  ↓\n",
      "→  →  →  →  →  →  →  →  →  ↓\n",
      "→  →  →  →  →  →  →  →  →  →\n",
      "-  -  -  -  -  -  -  -  -  -\n"
     ]
    }
   ],
   "source": [
    "print(tabulate(path1))"
   ]
  },
  {
   "cell_type": "code",
   "execution_count": 75,
   "metadata": {},
   "outputs": [],
   "source": [
    "#problem6\n",
    "Vs2 = np.zeros(height * width)\n",
    "calVs(Vs2, tp, Rfunc2, discount, theta)#calculate state value for each state"
   ]
  },
  {
   "cell_type": "code",
   "execution_count": 77,
   "metadata": {},
   "outputs": [
    {
     "name": "stdout",
     "output_type": "stream",
     "text": [
      "╒══════════╤══════════╤══════════╤════════════╤══════════╤════════════╤═══════════╤══════════╤═══════════╤══════════╕\n",
      "│ 0.648477 │ 0.794107 │ 0.825238 │  0.536246  │ -2.37043 │  -4.23382  │ -1.92053  │  1.13111 │  1.59436  │  2.03821 │\n",
      "├──────────┼──────────┼──────────┼────────────┼──────────┼────────────┼───────────┼──────────┼───────────┼──────────┤\n",
      "│ 0.829852 │ 1.02124  │ 1.06603  │ -1.8679    │ -6.73822 │  -8.67375  │ -6.36979  │ -1.2948  │  1.92834  │  2.61047 │\n",
      "├──────────┼──────────┼──────────┼────────────┼──────────┼────────────┼───────────┼──────────┼───────────┼──────────┤\n",
      "│ 1.06361  │ 1.31651  │ 1.45008  │ -1.62403   │ -6.74151 │ -13.9112   │ -9.64923  │ -5.51104 │ -0.131013 │  3.35906 │\n",
      "├──────────┼──────────┼──────────┼────────────┼──────────┼────────────┼───────────┼──────────┼───────────┼──────────┤\n",
      "│ 1.36025  │ 1.6927   │ 1.94802  │ -1.23217   │ -6.32308 │  -7.97761  │ -7.93668  │ -9.42387 │ -1.91443  │  4.39063 │\n",
      "├──────────┼──────────┼──────────┼────────────┼──────────┼────────────┼───────────┼──────────┼───────────┼──────────┤\n",
      "│ 1.73657  │ 2.1716   │ 2.58983  │ -0.725587  │ -5.83073 │  -3.25363  │ -3.2302   │ -7.41906 │  1.71898  │  9.1631  │\n",
      "├──────────┼──────────┼──────────┼────────────┼──────────┼────────────┼───────────┼──────────┼───────────┼──────────┤\n",
      "│ 2.21393  │ 2.78108  │ 3.4171   │ -0.0275631 │ -5.09866 │  -0.549015 │ -0.476653 │ -2.96756 │  6.58652  │ 15.3573  │\n",
      "├──────────┼──────────┼──────────┼────────────┼──────────┼────────────┼───────────┼──────────┼───────────┼──────────┤\n",
      "│ 2.81942  │ 3.5565   │ 4.48239  │  3.02807   │  2.48403 │   2.88409  │ -0.454636 │ -4.89488 │ 12.6923   │ 23.3     │\n",
      "├──────────┼──────────┼──────────┼────────────┼──────────┼────────────┼───────────┼──────────┼───────────┼──────────┤\n",
      "│ 3.58738  │ 4.54274  │ 5.79613  │  7.29199   │  6.72235 │   7.24485  │  0.94117  │ 12.3704  │ 21.1627   │ 33.4861  │\n",
      "├──────────┼──────────┼──────────┼────────────┼──────────┼────────────┼───────────┼──────────┼───────────┼──────────┤\n",
      "│ 4.56133  │ 5.79826  │ 7.40077  │  9.44302   │ 12.0118  │  12.8928   │ 17.101    │ 23.0175  │ 33.7818   │ 46.5324  │\n",
      "├──────────┼──────────┼──────────┼────────────┼──────────┼────────────┼───────────┼──────────┼───────────┼──────────┤\n",
      "│ 5.73     │ 7.31964  │ 9.39116  │ 12.0483    │ 15.4559  │  19.8275   │ 25.5011   │ 36.1612  │ 46.5869   │ 47.315   │\n",
      "╘══════════╧══════════╧══════════╧════════════╧══════════╧════════════╧═══════════╧══════════╧═══════════╧══════════╛\n"
     ]
    }
   ],
   "source": [
    "Vs2_2d = Vs2.reshape((height, width))\n",
    "print(tabulate(Vs2_2d.T,  tablefmt='fancy_grid'))"
   ]
  },
  {
   "cell_type": "code",
   "execution_count": 78,
   "metadata": {},
   "outputs": [
    {
     "data": {
      "image/png": "[encoded data removed]",
      "text/plain": [
       "<matplotlib.figure.Figure at 0x1a17d5dbe0>"
      ]
     },
     "metadata": {},
     "output_type": "display_data"
    }
   ],
   "source": [
    "#problem7\n",
    "hm4 = sns.heatmap(Vs2_2d.T)"
   ]
  },
  {
   "cell_type": "code",
   "execution_count": 79,
   "metadata": {},
   "outputs": [],
   "source": [
    "#problem9\n",
    "optimalAction2 = np.zeros(height * width)\n",
    "calOptimalAction(optimalAction2, tp, Rfunc2, Vs2, discount)"
   ]
  },
  {
   "cell_type": "code",
   "execution_count": 80,
   "metadata": {},
   "outputs": [
    {
     "name": "stdout",
     "output_type": "stream",
     "text": [
      "╒═══╤═══╤═══╤═══╤═══╤═══╤═══╤═══╤═══╤═══╕\n",
      "│ 2 │ 2 │ 2 │ 3 │ 3 │ 1 │ 1 │ 1 │ 1 │ 2 │\n",
      "├───┼───┼───┼───┼───┼───┼───┼───┼───┼───┤\n",
      "│ 2 │ 2 │ 2 │ 3 │ 3 │ 0 │ 1 │ 1 │ 1 │ 2 │\n",
      "├───┼───┼───┼───┼───┼───┼───┼───┼───┼───┤\n",
      "│ 2 │ 2 │ 2 │ 3 │ 3 │ 2 │ 1 │ 1 │ 1 │ 2 │\n",
      "├───┼───┼───┼───┼───┼───┼───┼───┼───┼───┤\n",
      "│ 2 │ 2 │ 2 │ 3 │ 3 │ 2 │ 2 │ 0 │ 1 │ 2 │\n",
      "├───┼───┼───┼───┼───┼───┼───┼───┼───┼───┤\n",
      "│ 2 │ 2 │ 2 │ 3 │ 3 │ 2 │ 2 │ 2 │ 1 │ 2 │\n",
      "├───┼───┼───┼───┼───┼───┼───┼───┼───┼───┤\n",
      "│ 2 │ 2 │ 2 │ 3 │ 3 │ 2 │ 2 │ 3 │ 1 │ 2 │\n",
      "├───┼───┼───┼───┼───┼───┼───┼───┼───┼───┤\n",
      "│ 2 │ 2 │ 2 │ 2 │ 2 │ 2 │ 3 │ 3 │ 1 │ 2 │\n",
      "├───┼───┼───┼───┼───┼───┼───┼───┼───┼───┤\n",
      "│ 2 │ 2 │ 2 │ 2 │ 2 │ 2 │ 3 │ 2 │ 2 │ 2 │\n",
      "├───┼───┼───┼───┼───┼───┼───┼───┼───┼───┤\n",
      "│ 1 │ 1 │ 1 │ 2 │ 2 │ 2 │ 2 │ 2 │ 2 │ 2 │\n",
      "├───┼───┼───┼───┼───┼───┼───┼───┼───┼───┤\n",
      "│ 1 │ 1 │ 1 │ 1 │ 1 │ 1 │ 1 │ 1 │ 1 │ 1 │\n",
      "╘═══╧═══╧═══╧═══╧═══╧═══╧═══╧═══╧═══╧═══╛\n"
     ]
    }
   ],
   "source": [
    "optimalAction2_2d = optimalAction2.reshape((height, width))\n",
    "arrows2 = action2Arrow(optimalAction2, arrows)\n",
    "path2 = np.array(arrows2).reshape((height,width)).T\n",
    "print(tabulate(optimalAction2_2d.T,  tablefmt='fancy_grid'))"
   ]
  },
  {
   "cell_type": "code",
   "execution_count": 81,
   "metadata": {},
   "outputs": [
    {
     "name": "stdout",
     "output_type": "stream",
     "text": [
      "-  -  -  -  -  -  -  -  -  -\n",
      "↓  ↓  ↓  ←  ←  →  →  →  →  ↓\n",
      "↓  ↓  ↓  ←  ←  ↑  →  →  →  ↓\n",
      "↓  ↓  ↓  ←  ←  ↓  →  →  →  ↓\n",
      "↓  ↓  ↓  ←  ←  ↓  ↓  ↑  →  ↓\n",
      "↓  ↓  ↓  ←  ←  ↓  ↓  ↓  →  ↓\n",
      "↓  ↓  ↓  ←  ←  ↓  ↓  ←  →  ↓\n",
      "↓  ↓  ↓  ↓  ↓  ↓  ←  ←  →  ↓\n",
      "↓  ↓  ↓  ↓  ↓  ↓  ←  ↓  ↓  ↓\n",
      "→  →  →  ↓  ↓  ↓  ↓  ↓  ↓  ↓\n",
      "→  →  →  →  →  →  →  →  →  →\n",
      "-  -  -  -  -  -  -  -  -  -\n"
     ]
    }
   ],
   "source": [
    "print(tabulate(path2))"
   ]
  },
  {
   "cell_type": "code",
   "execution_count": null,
   "metadata": {},
   "outputs": [],
   "source": []
  }
 ],
 "metadata": {
  "kernelspec": {
   "display_name": "Python 3",
   "language": "python",
   "name": "python3"
  },
  "language_info": {
   "codemirror_mode": {
    "name": "ipython",
    "version": 3
   },
   "file_extension": ".py",
   "mimetype": "text/x-python",
   "name": "python",
   "nbconvert_exporter": "python",
   "pygments_lexer": "ipython3",
   "version": "3.6.4"
  }
 },
 "nbformat": 4,
 "nbformat_minor": 2
}
